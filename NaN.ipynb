{
  "nbformat": 4,
  "nbformat_minor": 0,
  "metadata": {
    "colab": {
      "provenance": [],
      "authorship_tag": "ABX9TyOxHtw+q11PE30IGIf6OIO2",
      "include_colab_link": true
    },
    "kernelspec": {
      "name": "python3",
      "display_name": "Python 3"
    },
    "language_info": {
      "name": "python"
    }
  },
  "cells": [
    {
      "cell_type": "markdown",
      "metadata": {
        "id": "view-in-github",
        "colab_type": "text"
      },
      "source": [
        "<a href=\"https://colab.research.google.com/github/829797siva/Pandas/blob/main/NaN.ipynb\" target=\"_parent\"><img src=\"https://colab.research.google.com/assets/colab-badge.svg\" alt=\"Open In Colab\"/></a>"
      ]
    },
    {
      "cell_type": "markdown",
      "source": [
        "**NaN Value **:\n",
        "\n",
        "*   The full form of NaN is Not a Number.\n",
        "*   The purpose of NaN is, to represent the missing values in data.\n",
        "*   The data type of NaN is float.\n",
        "*   During data analysis we need to handle these NaN values.\n",
        "*   These all are repressing to empty or missing data found in a Series,\n",
        "DataFrame."
      ],
      "metadata": {
        "id": "z70XANvVYAI7"
      }
    },
    {
      "cell_type": "code",
      "execution_count": 2,
      "metadata": {
        "colab": {
          "base_uri": "https://localhost:8080/"
        },
        "id": "DRom4SPcXfv1",
        "outputId": "e2c0b9c3-3f72-4242-81b0-a3439988565c"
      },
      "outputs": [
        {
          "output_type": "stream",
          "name": "stdout",
          "text": [
            "0    36.0\n",
            "1    70.0\n",
            "2     NaN\n",
            "3    60.0\n",
            "dtype: float64\n"
          ]
        }
      ],
      "source": [
        "import pandas as pd\n",
        "import numpy as np\n",
        "marks = [36, 70, np.nan, 60]   # Creating Series with NaN values\n",
        "s = pd.Series(marks)\n",
        "print(s)"
      ]
    },
    {
      "cell_type": "code",
      "source": [
        "import pandas as pd\n",
        "import numpy as np\n",
        "marks =[\"Daniel\", \"Ranjan\", \"Swathi\", np.nan]   # Creating Series with NaN object\n",
        "s = pd.Series(marks)\n",
        "print(s)"
      ],
      "metadata": {
        "colab": {
          "base_uri": "https://localhost:8080/"
        },
        "id": "s59cZ4NlZ4y-",
        "outputId": "7e0515bc-bfe7-4b93-a552-9ad078e98461"
      },
      "execution_count": 3,
      "outputs": [
        {
          "output_type": "stream",
          "name": "stdout",
          "text": [
            "0    Daniel\n",
            "1    Ranjan\n",
            "2    Swathi\n",
            "3       NaN\n",
            "dtype: object\n"
          ]
        }
      ]
    },
    {
      "cell_type": "code",
      "source": [],
      "metadata": {
        "id": "j4QapFzdaHOf"
      },
      "execution_count": null,
      "outputs": []
    }
  ]
}