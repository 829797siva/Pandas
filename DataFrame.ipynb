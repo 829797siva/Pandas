{
  "nbformat": 4,
  "nbformat_minor": 0,
  "metadata": {
    "colab": {
      "provenance": [],
      "authorship_tag": "ABX9TyPzlPt2Za4U9EeAitBBD1Of",
      "include_colab_link": true
    },
    "kernelspec": {
      "name": "python3",
      "display_name": "Python 3"
    },
    "language_info": {
      "name": "python"
    }
  },
  "cells": [
    {
      "cell_type": "markdown",
      "metadata": {
        "id": "view-in-github",
        "colab_type": "text"
      },
      "source": [
        "<a href=\"https://colab.research.google.com/github/829797siva/Pandas/blob/main/DataFrame.ipynb\" target=\"_parent\"><img src=\"https://colab.research.google.com/assets/colab-badge.svg\" alt=\"Open In Colab\"/></a>"
      ]
    },
    {
      "cell_type": "markdown",
      "source": [
        "**DataFrame :**\n",
        "\n",
        "  ADataframeisatwo-dimensional data structure.\n",
        "\n",
        "  Dataframeis just like a table.\n",
        "\n",
        "  Dataframecontains rows and columns.\n",
        "\n",
        "  DataFrameis apre-defined class in pandas library."
      ],
      "metadata": {
        "id": "2zwUkhzkJjM1"
      }
    },
    {
      "cell_type": "markdown",
      "source": [
        " Create DataFrame :\n",
        "\n",
        "  Dataframeisapredefined class in pandas\n",
        "\n",
        "  WecancreateDataFramein different ways like below,\n",
        "\n",
        " 1. Empty DataFrame\n",
        "\n",
        " 2. Byusing single list\n",
        "\n",
        " 3. Byusing nested list\n",
        "\n",
        " 4. Byusing dictionary"
      ],
      "metadata": {
        "id": "mG7JBpf8J3jp"
      }
    },
    {
      "cell_type": "markdown",
      "source": [
        "1) Creating an Empty DataFrame:\n",
        "\n",
        " An empty DataFrame has no data and no columns.It is useful when you want to add data\n",
        " later."
      ],
      "metadata": {
        "id": "o3Z2qwvBKVlw"
      }
    },
    {
      "cell_type": "code",
      "execution_count": 9,
      "metadata": {
        "colab": {
          "base_uri": "https://localhost:8080/"
        },
        "id": "pwvThIMfJGIJ",
        "outputId": "44b295cd-1d32-43a4-e52c-9a17c178acda"
      },
      "outputs": [
        {
          "output_type": "stream",
          "name": "stdout",
          "text": [
            "Empty DataFrame\n",
            "Columns: []\n",
            "Index: []\n"
          ]
        }
      ],
      "source": [
        "import pandas as pd\n",
        "df=pd.DataFrame()\n",
        "print(df)"
      ]
    },
    {
      "cell_type": "markdown",
      "source": [
        "2. Create a DataFrame by using list:\n",
        "\n",
        "  WecancreateDataFrameby using single list.\n",
        "\n",
        " * If we are single list then it’s a single column DataFrame\n",
        "\n",
        " * If we are using list of lists(nested lists) then it’s multiple columns"
      ],
      "metadata": {
        "id": "n_P93GHPNrhB"
      }
    },
    {
      "cell_type": "code",
      "source": [
        "import pandas as pd\n",
        "df=[1,2,3,4,5,6]\n",
        "s=pd.DataFrame(df)\n",
        "print(s)"
      ],
      "metadata": {
        "colab": {
          "base_uri": "https://localhost:8080/"
        },
        "id": "k6K_hhyeK1g6",
        "outputId": "75167d93-9b48-4b15-dc19-46137a6ef192"
      },
      "execution_count": 8,
      "outputs": [
        {
          "output_type": "stream",
          "name": "stdout",
          "text": [
            "   0\n",
            "0  1\n",
            "1  2\n",
            "2  3\n",
            "3  4\n",
            "4  5\n",
            "5  6\n"
          ]
        }
      ]
    },
    {
      "cell_type": "markdown",
      "source": [
        "3. Creating a DataFrame by using list of lists:\n",
        "\n",
        "  WecancreateDataFrame with list of lists (nested list).\n",
        "\n",
        "  Ifweareusing list of lists then it create a DataFrame with multiple\n",
        " columns."
      ],
      "metadata": {
        "id": "_AYRMw82NsEK"
      }
    },
    {
      "cell_type": "code",
      "source": [
        "import pandas as pd\n",
        "df=[[10,20,30,40,50,60],[70,80,90,100,110,120]]\n",
        "s=pd.DataFrame(df)\n",
        "print(s)"
      ],
      "metadata": {
        "colab": {
          "base_uri": "https://localhost:8080/"
        },
        "id": "WaorSmqsLLv2",
        "outputId": "987cf62c-cd00-46ed-9681-d4e66de0077d"
      },
      "execution_count": 7,
      "outputs": [
        {
          "output_type": "stream",
          "name": "stdout",
          "text": [
            "    0   1   2    3    4    5\n",
            "0  10  20  30   40   50   60\n",
            "1  70  80  90  100  110  120\n"
          ]
        }
      ]
    },
    {
      "cell_type": "markdown",
      "source": [
        "4. Creating a DataFrame by using dictionary:\n",
        "  WecancreateDataFrame with list of lists (nested list).\n",
        "\n",
        "  Ifweareusing list of lists then it create a DataFrame with multiple\n",
        " columns."
      ],
      "metadata": {
        "id": "bL2PXRbGNsvp"
      }
    },
    {
      "cell_type": "code",
      "source": [
        "import pandas as pd\n",
        "student_data={\"name\":[\"karthik\",\"jyoshna\",\"sai\",\"ramu\",\"sita\",\"john\",\"jack\"],\n",
        "              \"age\":[21,17,23,27,22,25,26],\n",
        "              \"marks\":[70,100,60,80,100,90,85],\n",
        "              \"dept\":[\"AIML\",\"PHARMACY\",\"CIVIL\",\"DS\",\"ML\",\"AI\",\"CSE\"]}\n",
        "df=pd.DataFrame(student_data)\n",
        "print(df)"
      ],
      "metadata": {
        "colab": {
          "base_uri": "https://localhost:8080/"
        },
        "id": "oMn388s0LcQU",
        "outputId": "23956f94-b186-4cf9-9fdf-edf478472caf"
      },
      "execution_count": 10,
      "outputs": [
        {
          "output_type": "stream",
          "name": "stdout",
          "text": [
            "      name  age  marks      dept\n",
            "0  karthik   21     70      AIML\n",
            "1  jyoshna   17    100  PHARMACY\n",
            "2      sai   23     60     CIVIL\n",
            "3     ramu   27     80        DS\n",
            "4     sita   22    100        ML\n",
            "5     john   25     90        AI\n",
            "6     jack   26     85       CSE\n"
          ]
        }
      ]
    },
    {
      "cell_type": "code",
      "source": [],
      "metadata": {
        "id": "6-mlKLzDNGsC"
      },
      "execution_count": null,
      "outputs": []
    }
  ]
}