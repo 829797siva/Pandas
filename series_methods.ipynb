{
  "nbformat": 4,
  "nbformat_minor": 0,
  "metadata": {
    "colab": {
      "provenance": [],
      "authorship_tag": "ABX9TyNW+vP3AYMzuF+ER4mYS1Cs",
      "include_colab_link": true
    },
    "kernelspec": {
      "name": "python3",
      "display_name": "Python 3"
    },
    "language_info": {
      "name": "python"
    }
  },
  "cells": [
    {
      "cell_type": "markdown",
      "metadata": {
        "id": "view-in-github",
        "colab_type": "text"
      },
      "source": [
        "<a href=\"https://colab.research.google.com/github/829797siva/Pandas/blob/main/series_methods.ipynb\" target=\"_parent\"><img src=\"https://colab.research.google.com/assets/colab-badge.svg\" alt=\"Open In Colab\"/></a>"
      ]
    },
    {
      "cell_type": "markdown",
      "source": [
        "**Series Methods :**\n",
        "\n",
        " Series is a predefined class.\n",
        "\n",
        " Series class having different methods.\n",
        "\n",
        " These methods perform operations on Series of values."
      ],
      "metadata": {
        "id": "-M38TNCjARcx"
      }
    },
    {
      "cell_type": "markdown",
      "source": [
        "**1) sum() :**\n",
        "\n",
        " sum() is predefined method in Series class.\n",
        "\n",
        " We can access sum() method by using series object.\n",
        "\n",
        " This method returns the sum of all values."
      ],
      "metadata": {
        "id": "PSocCWqSBP8H"
      }
    },
    {
      "cell_type": "code",
      "execution_count": 1,
      "metadata": {
        "colab": {
          "base_uri": "https://localhost:8080/"
        },
        "id": "XbuPJ83E531m",
        "outputId": "ea701e21-3b06-480a-d10d-a911a62cbe59"
      },
      "outputs": [
        {
          "output_type": "stream",
          "name": "stdout",
          "text": [
            "87\n"
          ]
        }
      ],
      "source": [
        "import pandas as pd\n",
        "data=pd.Series([12,13,14,15,16,17])\n",
        "print(data.sum())"
      ]
    },
    {
      "cell_type": "markdown",
      "source": [
        "**2) mean() :**\n",
        "\n",
        " mean() is predefined method in Series class.\n",
        " We can access mean() method by using series object.\n",
        " This method returns the mean of series of values."
      ],
      "metadata": {
        "id": "zFMIjNukBVps"
      }
    },
    {
      "cell_type": "code",
      "source": [
        "import pandas as pd\n",
        "data=pd.Series([12,13,14,15,16,17])\n",
        "print(data.mean())"
      ],
      "metadata": {
        "colab": {
          "base_uri": "https://localhost:8080/"
        },
        "id": "raUPu5oK7Z6U",
        "outputId": "cc15c387-4ac2-4404-84d8-1b3bd48af6b6"
      },
      "execution_count": 2,
      "outputs": [
        {
          "output_type": "stream",
          "name": "stdout",
          "text": [
            "14.5\n"
          ]
        }
      ]
    },
    {
      "cell_type": "markdown",
      "source": [
        "**3) unique() :**\n",
        "\n",
        " unique() is predefined method in Series class.\n",
        "\n",
        " We can access unique() method by using series object.\n",
        "\n",
        " This method returns unique values from the series."
      ],
      "metadata": {
        "id": "u8BLpn87B2DM"
      }
    },
    {
      "cell_type": "code",
      "source": [
        "import pandas as pd\n",
        "data=pd.Series([12,13,14,15,16,17,17,16])\n",
        "print(data.unique())"
      ],
      "metadata": {
        "colab": {
          "base_uri": "https://localhost:8080/"
        },
        "id": "N7WDexp28Z7e",
        "outputId": "d86eece0-2b18-4ff5-a807-3903b00688f9"
      },
      "execution_count": 14,
      "outputs": [
        {
          "output_type": "stream",
          "name": "stdout",
          "text": [
            "6\n"
          ]
        }
      ]
    },
    {
      "cell_type": "markdown",
      "source": [
        "**4) nunique() :**\n",
        "\n",
        " nunique() is predefined method in Series class.\n",
        "\n",
        " We can access nunique() method by using series object.\n",
        "\n",
        " This method returns number of unique values from the series."
      ],
      "metadata": {
        "id": "XNNQ4cKsCF7j"
      }
    },
    {
      "cell_type": "code",
      "source": [
        "import pandas as pd\n",
        "data=pd.Series([12,13,14,15,15,16,16,17,17])\n",
        "print(data.nunique())"
      ],
      "metadata": {
        "colab": {
          "base_uri": "https://localhost:8080/"
        },
        "id": "FLxG6OFX9sxo",
        "outputId": "3a34787c-d3dd-4215-fa49-3ef55b4265a4"
      },
      "execution_count": 6,
      "outputs": [
        {
          "output_type": "stream",
          "name": "stdout",
          "text": [
            "[12 13 14 15 16 17]\n"
          ]
        }
      ]
    },
    {
      "cell_type": "markdown",
      "source": [
        "**5) describe() :**\n",
        "\n",
        " describe() is predefined method in Series class.\n",
        "\n",
        " We can access describe() method by using series object.\n",
        "\n",
        " This method returns the below values,\n",
        "\n",
        "o count\n",
        "\n",
        "o mean\n",
        "\n",
        "o std\n",
        "\n",
        "o min\n",
        "\n",
        "o 25%\n",
        "\n",
        "o 50%\n",
        "\n",
        "o 75%\n",
        "\n",
        "o max"
      ],
      "metadata": {
        "id": "xnCTCE_1BgCO"
      }
    },
    {
      "cell_type": "code",
      "source": [
        "import pandas as pd\n",
        "data=pd.Series([12,13,14,15,16,17,18,18,11,11,12])\n",
        "print(data.describe())"
      ],
      "metadata": {
        "colab": {
          "base_uri": "https://localhost:8080/"
        },
        "id": "dqYuwVsP94rq",
        "outputId": "fd38db88-2069-4581-c146-c82578732045"
      },
      "execution_count": 8,
      "outputs": [
        {
          "output_type": "stream",
          "name": "stdout",
          "text": [
            "count    11.000000\n",
            "mean     14.272727\n",
            "std       2.686667\n",
            "min      11.000000\n",
            "25%      12.000000\n",
            "50%      14.000000\n",
            "75%      16.500000\n",
            "max      18.000000\n",
            "dtype: float64\n"
          ]
        }
      ]
    },
    {
      "cell_type": "markdown",
      "source": [
        "**6) tail() :**\n",
        "\n",
        " tail() is predefined method in Series class.\n",
        "\n",
        " We can access tail() method by using series object.\n",
        "\n",
        " This method returns last five values from the series."
      ],
      "metadata": {
        "id": "Zo0blTdTBAai"
      }
    },
    {
      "cell_type": "code",
      "source": [
        "import pandas as pd\n",
        "data=pd.Series([12,13,14,15,16,17,18,19,20])\n",
        "print(data.tail())"
      ],
      "metadata": {
        "colab": {
          "base_uri": "https://localhost:8080/"
        },
        "id": "GM-BfCcj-uNM",
        "outputId": "d243a5f4-b538-4d95-a1eb-d82d589451fd"
      },
      "execution_count": 9,
      "outputs": [
        {
          "output_type": "stream",
          "name": "stdout",
          "text": [
            "4    16\n",
            "5    17\n",
            "6    18\n",
            "7    19\n",
            "8    20\n",
            "dtype: int64\n"
          ]
        }
      ]
    },
    {
      "cell_type": "markdown",
      "source": [
        "**7) head() :**\n",
        "\n",
        " head() is predefined method in Series class.\n",
        "\n",
        " We can access head() method by using series object.\n",
        "\n",
        " This method returns first five values from the series."
      ],
      "metadata": {
        "id": "ealIiTEcAe6_"
      }
    },
    {
      "cell_type": "code",
      "source": [
        "import pandas as pd\n",
        "data=pd.Series([12,13,14,15,16,17,18])\n",
        "print(data.head())"
      ],
      "metadata": {
        "colab": {
          "base_uri": "https://localhost:8080/"
        },
        "id": "oUncZE1c_U04",
        "outputId": "607ff075-8bea-46a7-bd06-85453dde57af"
      },
      "execution_count": 11,
      "outputs": [
        {
          "output_type": "stream",
          "name": "stdout",
          "text": [
            "0    12\n",
            "1    13\n",
            "2    14\n",
            "3    15\n",
            "4    16\n",
            "dtype: int64\n"
          ]
        }
      ]
    },
    {
      "cell_type": "markdown",
      "source": [
        "**8) count() :**\n",
        "\n",
        " count() is predefined method in Series class.\n",
        "\n",
        " We can access count() method by using series object.\n",
        "\n",
        " This method returns the number of non-NAN/null values."
      ],
      "metadata": {
        "id": "mLBe9uPdBavO"
      }
    },
    {
      "cell_type": "code",
      "source": [
        "import pandas as pd\n",
        "import numpy as np\n",
        "data=pd.Series([12,13,14,15,16,17, np.nan,18, np.nan, np.nan])\n",
        "print(data.count())"
      ],
      "metadata": {
        "colab": {
          "base_uri": "https://localhost:8080/"
        },
        "id": "yMiXPi9__X8-",
        "outputId": "f4733f2e-3e5d-4078-9e5b-f6ae9e9bb220"
      },
      "execution_count": 15,
      "outputs": [
        {
          "output_type": "stream",
          "name": "stdout",
          "text": [
            "7\n"
          ]
        }
      ]
    }
  ]
}