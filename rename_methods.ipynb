{
  "nbformat": 4,
  "nbformat_minor": 0,
  "metadata": {
    "colab": {
      "provenance": [],
      "authorship_tag": "ABX9TyMTwh2xHEqkOWTis/RoJsgt",
      "include_colab_link": true
    },
    "kernelspec": {
      "name": "python3",
      "display_name": "Python 3"
    },
    "language_info": {
      "name": "python"
    }
  },
  "cells": [
    {
      "cell_type": "markdown",
      "metadata": {
        "id": "view-in-github",
        "colab_type": "text"
      },
      "source": [
        "<a href=\"https://colab.research.google.com/github/829797siva/Pandas/blob/main/rename_methods.ipynb\" target=\"_parent\"><img src=\"https://colab.research.google.com/assets/colab-badge.svg\" alt=\"Open In Colab\"/></a>"
      ]
    },
    {
      "cell_type": "code",
      "execution_count": 1,
      "metadata": {
        "colab": {
          "base_uri": "https://localhost:8080/",
          "height": 73
        },
        "id": "7c5-5qa0vgil",
        "outputId": "4d59e303-95d1-448e-c03c-1ed50f4f21df"
      },
      "outputs": [
        {
          "output_type": "display_data",
          "data": {
            "text/plain": [
              "<IPython.core.display.HTML object>"
            ],
            "text/html": [
              "\n",
              "     <input type=\"file\" id=\"files-821a5ce1-4b72-4a73-a0cf-8cc239b93d68\" name=\"files[]\" multiple disabled\n",
              "        style=\"border:none\" />\n",
              "     <output id=\"result-821a5ce1-4b72-4a73-a0cf-8cc239b93d68\">\n",
              "      Upload widget is only available when the cell has been executed in the\n",
              "      current browser session. Please rerun this cell to enable.\n",
              "      </output>\n",
              "      <script>// Copyright 2017 Google LLC\n",
              "//\n",
              "// Licensed under the Apache License, Version 2.0 (the \"License\");\n",
              "// you may not use this file except in compliance with the License.\n",
              "// You may obtain a copy of the License at\n",
              "//\n",
              "//      http://www.apache.org/licenses/LICENSE-2.0\n",
              "//\n",
              "// Unless required by applicable law or agreed to in writing, software\n",
              "// distributed under the License is distributed on an \"AS IS\" BASIS,\n",
              "// WITHOUT WARRANTIES OR CONDITIONS OF ANY KIND, either express or implied.\n",
              "// See the License for the specific language governing permissions and\n",
              "// limitations under the License.\n",
              "\n",
              "/**\n",
              " * @fileoverview Helpers for google.colab Python module.\n",
              " */\n",
              "(function(scope) {\n",
              "function span(text, styleAttributes = {}) {\n",
              "  const element = document.createElement('span');\n",
              "  element.textContent = text;\n",
              "  for (const key of Object.keys(styleAttributes)) {\n",
              "    element.style[key] = styleAttributes[key];\n",
              "  }\n",
              "  return element;\n",
              "}\n",
              "\n",
              "// Max number of bytes which will be uploaded at a time.\n",
              "const MAX_PAYLOAD_SIZE = 100 * 1024;\n",
              "\n",
              "function _uploadFiles(inputId, outputId) {\n",
              "  const steps = uploadFilesStep(inputId, outputId);\n",
              "  const outputElement = document.getElementById(outputId);\n",
              "  // Cache steps on the outputElement to make it available for the next call\n",
              "  // to uploadFilesContinue from Python.\n",
              "  outputElement.steps = steps;\n",
              "\n",
              "  return _uploadFilesContinue(outputId);\n",
              "}\n",
              "\n",
              "// This is roughly an async generator (not supported in the browser yet),\n",
              "// where there are multiple asynchronous steps and the Python side is going\n",
              "// to poll for completion of each step.\n",
              "// This uses a Promise to block the python side on completion of each step,\n",
              "// then passes the result of the previous step as the input to the next step.\n",
              "function _uploadFilesContinue(outputId) {\n",
              "  const outputElement = document.getElementById(outputId);\n",
              "  const steps = outputElement.steps;\n",
              "\n",
              "  const next = steps.next(outputElement.lastPromiseValue);\n",
              "  return Promise.resolve(next.value.promise).then((value) => {\n",
              "    // Cache the last promise value to make it available to the next\n",
              "    // step of the generator.\n",
              "    outputElement.lastPromiseValue = value;\n",
              "    return next.value.response;\n",
              "  });\n",
              "}\n",
              "\n",
              "/**\n",
              " * Generator function which is called between each async step of the upload\n",
              " * process.\n",
              " * @param {string} inputId Element ID of the input file picker element.\n",
              " * @param {string} outputId Element ID of the output display.\n",
              " * @return {!Iterable<!Object>} Iterable of next steps.\n",
              " */\n",
              "function* uploadFilesStep(inputId, outputId) {\n",
              "  const inputElement = document.getElementById(inputId);\n",
              "  inputElement.disabled = false;\n",
              "\n",
              "  const outputElement = document.getElementById(outputId);\n",
              "  outputElement.innerHTML = '';\n",
              "\n",
              "  const pickedPromise = new Promise((resolve) => {\n",
              "    inputElement.addEventListener('change', (e) => {\n",
              "      resolve(e.target.files);\n",
              "    });\n",
              "  });\n",
              "\n",
              "  const cancel = document.createElement('button');\n",
              "  inputElement.parentElement.appendChild(cancel);\n",
              "  cancel.textContent = 'Cancel upload';\n",
              "  const cancelPromise = new Promise((resolve) => {\n",
              "    cancel.onclick = () => {\n",
              "      resolve(null);\n",
              "    };\n",
              "  });\n",
              "\n",
              "  // Wait for the user to pick the files.\n",
              "  const files = yield {\n",
              "    promise: Promise.race([pickedPromise, cancelPromise]),\n",
              "    response: {\n",
              "      action: 'starting',\n",
              "    }\n",
              "  };\n",
              "\n",
              "  cancel.remove();\n",
              "\n",
              "  // Disable the input element since further picks are not allowed.\n",
              "  inputElement.disabled = true;\n",
              "\n",
              "  if (!files) {\n",
              "    return {\n",
              "      response: {\n",
              "        action: 'complete',\n",
              "      }\n",
              "    };\n",
              "  }\n",
              "\n",
              "  for (const file of files) {\n",
              "    const li = document.createElement('li');\n",
              "    li.append(span(file.name, {fontWeight: 'bold'}));\n",
              "    li.append(span(\n",
              "        `(${file.type || 'n/a'}) - ${file.size} bytes, ` +\n",
              "        `last modified: ${\n",
              "            file.lastModifiedDate ? file.lastModifiedDate.toLocaleDateString() :\n",
              "                                    'n/a'} - `));\n",
              "    const percent = span('0% done');\n",
              "    li.appendChild(percent);\n",
              "\n",
              "    outputElement.appendChild(li);\n",
              "\n",
              "    const fileDataPromise = new Promise((resolve) => {\n",
              "      const reader = new FileReader();\n",
              "      reader.onload = (e) => {\n",
              "        resolve(e.target.result);\n",
              "      };\n",
              "      reader.readAsArrayBuffer(file);\n",
              "    });\n",
              "    // Wait for the data to be ready.\n",
              "    let fileData = yield {\n",
              "      promise: fileDataPromise,\n",
              "      response: {\n",
              "        action: 'continue',\n",
              "      }\n",
              "    };\n",
              "\n",
              "    // Use a chunked sending to avoid message size limits. See b/62115660.\n",
              "    let position = 0;\n",
              "    do {\n",
              "      const length = Math.min(fileData.byteLength - position, MAX_PAYLOAD_SIZE);\n",
              "      const chunk = new Uint8Array(fileData, position, length);\n",
              "      position += length;\n",
              "\n",
              "      const base64 = btoa(String.fromCharCode.apply(null, chunk));\n",
              "      yield {\n",
              "        response: {\n",
              "          action: 'append',\n",
              "          file: file.name,\n",
              "          data: base64,\n",
              "        },\n",
              "      };\n",
              "\n",
              "      let percentDone = fileData.byteLength === 0 ?\n",
              "          100 :\n",
              "          Math.round((position / fileData.byteLength) * 100);\n",
              "      percent.textContent = `${percentDone}% done`;\n",
              "\n",
              "    } while (position < fileData.byteLength);\n",
              "  }\n",
              "\n",
              "  // All done.\n",
              "  yield {\n",
              "    response: {\n",
              "      action: 'complete',\n",
              "    }\n",
              "  };\n",
              "}\n",
              "\n",
              "scope.google = scope.google || {};\n",
              "scope.google.colab = scope.google.colab || {};\n",
              "scope.google.colab._files = {\n",
              "  _uploadFiles,\n",
              "  _uploadFilesContinue,\n",
              "};\n",
              "})(self);\n",
              "</script> "
            ]
          },
          "metadata": {}
        },
        {
          "output_type": "stream",
          "name": "stdout",
          "text": [
            "Saving Coffe_sales.csv to Coffe_sales.csv\n"
          ]
        }
      ],
      "source": [
        "from google.colab import files\n",
        "uploades = files.upload()"
      ]
    },
    {
      "cell_type": "markdown",
      "source": [
        "**rename method:**\n",
        "\n",
        "Renaming single column in DataFrame"
      ],
      "metadata": {
        "id": "lLlXVltM97pp"
      }
    },
    {
      "cell_type": "code",
      "source": [
        "df1 = pd.read_csv(\"Coffe_sales.csv\")\n",
        "d = {\n",
        "        \"money\": \"MONEY\"\n",
        "}\n",
        "\n",
        "df2 = df1.rename(columns = d)\n",
        "print()\n",
        "print(df2.head())"
      ],
      "metadata": {
        "colab": {
          "base_uri": "https://localhost:8080/"
        },
        "id": "3VGEig6CwtfL",
        "outputId": "ea20e6d3-4440-488b-d7cf-73e988cc53e9"
      },
      "execution_count": 14,
      "outputs": [
        {
          "output_type": "stream",
          "name": "stdout",
          "text": [
            "\n",
            "   hour_of_day cash_type  MONEY    coffee_name Time_of_Day Weekday Month_name  \\\n",
            "0           10      card   38.7          Latte     Morning     Fri        Mar   \n",
            "1           12      card   38.7  Hot Chocolate   Afternoon     Fri        Mar   \n",
            "2           12      card   38.7  Hot Chocolate   Afternoon     Fri        Mar   \n",
            "3           13      card   28.9      Americano   Afternoon     Fri        Mar   \n",
            "4           13      card   38.7          Latte   Afternoon     Fri        Mar   \n",
            "\n",
            "   Weekdaysort  Monthsort        Date     Time  \n",
            "0            5          3  01-03-2024  15:50.5  \n",
            "1            5          3  01-03-2024  19:22.5  \n",
            "2            5          3  01-03-2024  20:18.1  \n",
            "3            5          3  01-03-2024  46:33.0  \n",
            "4            5          3  01-03-2024  48:14.6  \n"
          ]
        }
      ]
    },
    {
      "cell_type": "markdown",
      "source": [
        "Renaming multiple column in DataFrame  "
      ],
      "metadata": {
        "id": "-R7Jw7YL-Mwi"
      }
    },
    {
      "cell_type": "code",
      "source": [
        "import pandas as pd\n",
        "df=pd.read_csv(\"Coffe_sales.csv\")\n",
        "d={\n",
        "    \"hour_of_day\":\"HOUR OF DAY\",\n",
        "    \"cash_type\":\"CASH TYPE\",\n",
        "    \"Time_of_day\":\"TIME OF DAY\",\n",
        "    \"money\":\"MONEY\",\n",
        "    \"Weekday\":\"WEEKDAY\",\n",
        "    \"Month_name\":\"MONTH NAME\",\n",
        "    \"Weekdaysort\":\"WEEKDAY SORT\",\n",
        "    \"Monthsort\":\"MONTH SORT\",\n",
        "    \"Date\":\"DATE\"\n",
        "\n",
        "}\n",
        "df2=df.rename(columns=d)\n",
        "print()\n",
        "print(df2.head())"
      ],
      "metadata": {
        "colab": {
          "base_uri": "https://localhost:8080/"
        },
        "id": "ZUOz41Rbw_NW",
        "outputId": "9d771957-6210-4ca3-f109-66d0c95ca98c"
      },
      "execution_count": 17,
      "outputs": [
        {
          "output_type": "stream",
          "name": "stdout",
          "text": [
            "\n",
            "   HOUR OF DAY CASH TYPE  MONEY    coffee_name Time_of_Day WEEKDAY MONTH NAME  \\\n",
            "0           10      card   38.7          Latte     Morning     Fri        Mar   \n",
            "1           12      card   38.7  Hot Chocolate   Afternoon     Fri        Mar   \n",
            "2           12      card   38.7  Hot Chocolate   Afternoon     Fri        Mar   \n",
            "3           13      card   28.9      Americano   Afternoon     Fri        Mar   \n",
            "4           13      card   38.7          Latte   Afternoon     Fri        Mar   \n",
            "\n",
            "   WEEKDAY SORT  MONTH SORT        DATE     Time  \n",
            "0             5           3  01-03-2024  15:50.5  \n",
            "1             5           3  01-03-2024  19:22.5  \n",
            "2             5           3  01-03-2024  20:18.1  \n",
            "3             5           3  01-03-2024  46:33.0  \n",
            "4             5           3  01-03-2024  48:14.6  \n"
          ]
        }
      ]
    },
    {
      "cell_type": "markdown",
      "source": [
        " By using columns attribute we can even change multiple column names:"
      ],
      "metadata": {
        "id": "nDmJVrHw-Tqm"
      }
    },
    {
      "cell_type": "code",
      "source": [
        "import pandas as pd\n",
        "df=pd.read_csv(\"Coffe_sales.csv\")\n",
        "df.columns=[\n",
        "    \"hour_of_day\",\n",
        "    \"cash_type\",\n",
        "    \"money\",\n",
        "    \"Coffe_name\",\n",
        "    \"time_of_day\",\n",
        "    \"Weekday\",\n",
        "    \"Month_name\",\n",
        "    \"Weekdaysort\",\n",
        "    \"Monthsort\",\n",
        "    \"Date\",\n",
        "    \"time\"\n",
        "]\n",
        "print(df.head())"
      ],
      "metadata": {
        "colab": {
          "base_uri": "https://localhost:8080/"
        },
        "id": "gUK5srHU0pmT",
        "outputId": "ae359aea-78a5-4e91-d246-8d075179c19a"
      },
      "execution_count": 22,
      "outputs": [
        {
          "output_type": "stream",
          "name": "stdout",
          "text": [
            "   hour_of_day cash_type  money     Coffe_name time_of_day Weekday Month_name  \\\n",
            "0           10      card   38.7          Latte     Morning     Fri        Mar   \n",
            "1           12      card   38.7  Hot Chocolate   Afternoon     Fri        Mar   \n",
            "2           12      card   38.7  Hot Chocolate   Afternoon     Fri        Mar   \n",
            "3           13      card   28.9      Americano   Afternoon     Fri        Mar   \n",
            "4           13      card   38.7          Latte   Afternoon     Fri        Mar   \n",
            "\n",
            "   Weekdaysort  Monthsort        Date     time  \n",
            "0            5          3  01-03-2024  15:50.5  \n",
            "1            5          3  01-03-2024  19:22.5  \n",
            "2            5          3  01-03-2024  20:18.1  \n",
            "3            5          3  01-03-2024  46:33.0  \n",
            "4            5          3  01-03-2024  48:14.6  \n"
          ]
        }
      ]
    },
    {
      "cell_type": "markdown",
      "source": [
        "Creating a sample Dataframe :"
      ],
      "metadata": {
        "id": "bfqPXM7G-f7y"
      }
    },
    {
      "cell_type": "code",
      "source": [
        "import pandas as pd\n",
        "d={\n",
        "    \"order id\":[11,12,13],\n",
        "    \"customer_name\":[\"karthik\",\"jyoshna\",\"kannamma\"],\n",
        "    \"products\":[\"iphone\",\"htc\",\"mackbook\"]\n",
        "}\n",
        "print(pd.DataFrame(d))\n",
        "\n"
      ],
      "metadata": {
        "colab": {
          "base_uri": "https://localhost:8080/"
        },
        "id": "VUCAf1cr1POp",
        "outputId": "b95f65b6-61e1-42c5-fb91-d01a1f383653"
      },
      "execution_count": 24,
      "outputs": [
        {
          "output_type": "stream",
          "name": "stdout",
          "text": [
            "   order id customer_name  products\n",
            "0        11       karthik    iphone\n",
            "1        12       jyoshna       htc\n",
            "2        13      kannamma  mackbook\n"
          ]
        }
      ]
    },
    {
      "cell_type": "markdown",
      "source": [
        "Changing index in DataFrame :"
      ],
      "metadata": {
        "id": "aUQFDQqB-wSU"
      }
    },
    {
      "cell_type": "code",
      "source": [
        "import pandas as pd\n",
        "d={\n",
        "    \"order id\":[11,12,13],\n",
        "    \"customer_name\":[\"karthik\",\"jyoshna\",\"kannamma\"],\n",
        "    \"products\":[\"iphone\",\"htc\",\"mackbook\"]\n",
        "}\n",
        "i={0:12,1:13,2:14}\n",
        "df1=pd.DataFrame(d)\n",
        "df2=df1.rename(index=i)\n",
        "print(df2)"
      ],
      "metadata": {
        "colab": {
          "base_uri": "https://localhost:8080/"
        },
        "id": "dIlKADmy3c2b",
        "outputId": "0f0ca998-a61a-44e7-d3f2-d3474ae379b8"
      },
      "execution_count": 25,
      "outputs": [
        {
          "output_type": "stream",
          "name": "stdout",
          "text": [
            "    order id customer_name  products\n",
            "12        11       karthik    iphone\n",
            "13        12       jyoshna       htc\n",
            "14        13      kannamma  mackbook\n"
          ]
        }
      ]
    },
    {
      "cell_type": "markdown",
      "source": [
        "Changing index in DataFrame, using axis parameter:"
      ],
      "metadata": {
        "id": "RXck17AA-1Nr"
      }
    },
    {
      "cell_type": "code",
      "source": [
        "import pandas as pd\n",
        "d={\n",
        "    \"order id\":[11,12,13],\n",
        "    \"customer_name\":[\"karthik\",\"jyoshna\",\"kannamma\"],\n",
        "    \"products\":[\"iphone\",\"htc\",\"mackbook\"]\n",
        "}\n",
        "i={0:12,1:13,2:14}\n",
        "df1=pd.DataFrame(d)\n",
        "df1.index=[12,13,14]\n",
        "print(df2)"
      ],
      "metadata": {
        "colab": {
          "base_uri": "https://localhost:8080/"
        },
        "id": "pWwJF08n4Rcg",
        "outputId": "c79daef0-5014-4933-e433-f4048b603e56"
      },
      "execution_count": 26,
      "outputs": [
        {
          "output_type": "stream",
          "name": "stdout",
          "text": [
            "    order id customer_name  products\n",
            "12        11       karthik    iphone\n",
            "13        12       jyoshna       htc\n",
            "14        13      kannamma  mackbook\n"
          ]
        }
      ]
    },
    {
      "cell_type": "markdown",
      "source": [
        "Changing index in DataFrame, using index attribute:"
      ],
      "metadata": {
        "id": "0gWQX1Kk--br"
      }
    },
    {
      "cell_type": "code",
      "source": [
        "import pandas as pd\n",
        "df1=pd.read_csv(\"Coffe_sales.csv\")\n",
        "print(df1)\n",
        "df1.index = range(10,3557)\n",
        "print()\n",
        "print(df1)"
      ],
      "metadata": {
        "colab": {
          "base_uri": "https://localhost:8080/"
        },
        "id": "EFD1SWlI4j_-",
        "outputId": "d893513a-0534-44db-b904-ef57b5fa9285"
      },
      "execution_count": 44,
      "outputs": [
        {
          "output_type": "stream",
          "name": "stdout",
          "text": [
            "      hour_of_day cash_type  money    coffee_name Time_of_Day Weekday  \\\n",
            "0              10      card  38.70          Latte     Morning     Fri   \n",
            "1              12      card  38.70  Hot Chocolate   Afternoon     Fri   \n",
            "2              12      card  38.70  Hot Chocolate   Afternoon     Fri   \n",
            "3              13      card  28.90      Americano   Afternoon     Fri   \n",
            "4              13      card  38.70          Latte   Afternoon     Fri   \n",
            "...           ...       ...    ...            ...         ...     ...   \n",
            "3542           10      card  35.76     Cappuccino     Morning     Sun   \n",
            "3543           14      card  35.76          Cocoa   Afternoon     Sun   \n",
            "3544           14      card  35.76          Cocoa   Afternoon     Sun   \n",
            "3545           15      card  25.96      Americano   Afternoon     Sun   \n",
            "3546           18      card  35.76          Latte       Night     Sun   \n",
            "\n",
            "     Month_name  Weekdaysort  Monthsort        Date     Time  \n",
            "0           Mar            5          3  01-03-2024  15:50.5  \n",
            "1           Mar            5          3  01-03-2024  19:22.5  \n",
            "2           Mar            5          3  01-03-2024  20:18.1  \n",
            "3           Mar            5          3  01-03-2024  46:33.0  \n",
            "4           Mar            5          3  01-03-2024  48:14.6  \n",
            "...         ...          ...        ...         ...      ...  \n",
            "3542        Mar            7          3  23-03-2025  34:54.9  \n",
            "3543        Mar            7          3  23-03-2025  43:37.4  \n",
            "3544        Mar            7          3  23-03-2025  44:16.9  \n",
            "3545        Mar            7          3  23-03-2025  47:28.7  \n",
            "3546        Mar            7          3  23-03-2025  11:38.6  \n",
            "\n",
            "[3547 rows x 11 columns]\n",
            "\n",
            "      hour_of_day cash_type  money    coffee_name Time_of_Day Weekday  \\\n",
            "10             10      card  38.70          Latte     Morning     Fri   \n",
            "11             12      card  38.70  Hot Chocolate   Afternoon     Fri   \n",
            "12             12      card  38.70  Hot Chocolate   Afternoon     Fri   \n",
            "13             13      card  28.90      Americano   Afternoon     Fri   \n",
            "14             13      card  38.70          Latte   Afternoon     Fri   \n",
            "...           ...       ...    ...            ...         ...     ...   \n",
            "3552           10      card  35.76     Cappuccino     Morning     Sun   \n",
            "3553           14      card  35.76          Cocoa   Afternoon     Sun   \n",
            "3554           14      card  35.76          Cocoa   Afternoon     Sun   \n",
            "3555           15      card  25.96      Americano   Afternoon     Sun   \n",
            "3556           18      card  35.76          Latte       Night     Sun   \n",
            "\n",
            "     Month_name  Weekdaysort  Monthsort        Date     Time  \n",
            "10          Mar            5          3  01-03-2024  15:50.5  \n",
            "11          Mar            5          3  01-03-2024  19:22.5  \n",
            "12          Mar            5          3  01-03-2024  20:18.1  \n",
            "13          Mar            5          3  01-03-2024  46:33.0  \n",
            "14          Mar            5          3  01-03-2024  48:14.6  \n",
            "...         ...          ...        ...         ...      ...  \n",
            "3552        Mar            7          3  23-03-2025  34:54.9  \n",
            "3553        Mar            7          3  23-03-2025  43:37.4  \n",
            "3554        Mar            7          3  23-03-2025  44:16.9  \n",
            "3555        Mar            7          3  23-03-2025  47:28.7  \n",
            "3556        Mar            7          3  23-03-2025  11:38.6  \n",
            "\n",
            "[3547 rows x 11 columns]\n"
          ]
        }
      ]
    },
    {
      "cell_type": "code",
      "source": [
        "import pandas as pd\n",
        "df1=pd.read_csv(\"Coffe_sales.csv\")\n",
        "print(df1.head(10))\n",
        "df1.index = range(10,3557)\n",
        "print()\n",
        "print(df1.head(10))"
      ],
      "metadata": {
        "colab": {
          "base_uri": "https://localhost:8080/"
        },
        "id": "HomEmRLD5R9E",
        "outputId": "5d46bae7-2f4e-4da0-d8c2-b7dfd33481e6"
      },
      "execution_count": 58,
      "outputs": [
        {
          "output_type": "stream",
          "name": "stdout",
          "text": [
            "   hour_of_day cash_type  money          coffee_name Time_of_Day Weekday  \\\n",
            "0           10      card   38.7                Latte     Morning     Fri   \n",
            "1           12      card   38.7        Hot Chocolate   Afternoon     Fri   \n",
            "2           12      card   38.7        Hot Chocolate   Afternoon     Fri   \n",
            "3           13      card   28.9            Americano   Afternoon     Fri   \n",
            "4           13      card   38.7                Latte   Afternoon     Fri   \n",
            "5           15      card   33.8  Americano with Milk   Afternoon     Fri   \n",
            "6           16      card   38.7        Hot Chocolate   Afternoon     Fri   \n",
            "7           18      card   33.8  Americano with Milk       Night     Fri   \n",
            "8           19      card   38.7                Cocoa       Night     Fri   \n",
            "9           19      card   33.8  Americano with Milk       Night     Fri   \n",
            "\n",
            "  Month_name  Weekdaysort  Monthsort        Date     Time  \n",
            "0        Mar            5          3  01-03-2024  15:50.5  \n",
            "1        Mar            5          3  01-03-2024  19:22.5  \n",
            "2        Mar            5          3  01-03-2024  20:18.1  \n",
            "3        Mar            5          3  01-03-2024  46:33.0  \n",
            "4        Mar            5          3  01-03-2024  48:14.6  \n",
            "5        Mar            5          3  01-03-2024  39:47.7  \n",
            "6        Mar            5          3  01-03-2024  19:02.8  \n",
            "7        Mar            5          3  01-03-2024  39:03.6  \n",
            "8        Mar            5          3  01-03-2024  22:01.8  \n",
            "9        Mar            5          3  01-03-2024  23:15.9  \n",
            "\n",
            "    hour_of_day cash_type  money          coffee_name Time_of_Day Weekday  \\\n",
            "10           10      card   38.7                Latte     Morning     Fri   \n",
            "11           12      card   38.7        Hot Chocolate   Afternoon     Fri   \n",
            "12           12      card   38.7        Hot Chocolate   Afternoon     Fri   \n",
            "13           13      card   28.9            Americano   Afternoon     Fri   \n",
            "14           13      card   38.7                Latte   Afternoon     Fri   \n",
            "15           15      card   33.8  Americano with Milk   Afternoon     Fri   \n",
            "16           16      card   38.7        Hot Chocolate   Afternoon     Fri   \n",
            "17           18      card   33.8  Americano with Milk       Night     Fri   \n",
            "18           19      card   38.7                Cocoa       Night     Fri   \n",
            "19           19      card   33.8  Americano with Milk       Night     Fri   \n",
            "\n",
            "   Month_name  Weekdaysort  Monthsort        Date     Time  \n",
            "10        Mar            5          3  01-03-2024  15:50.5  \n",
            "11        Mar            5          3  01-03-2024  19:22.5  \n",
            "12        Mar            5          3  01-03-2024  20:18.1  \n",
            "13        Mar            5          3  01-03-2024  46:33.0  \n",
            "14        Mar            5          3  01-03-2024  48:14.6  \n",
            "15        Mar            5          3  01-03-2024  39:47.7  \n",
            "16        Mar            5          3  01-03-2024  19:02.8  \n",
            "17        Mar            5          3  01-03-2024  39:03.6  \n",
            "18        Mar            5          3  01-03-2024  22:01.8  \n",
            "19        Mar            5          3  01-03-2024  23:15.9  \n"
          ]
        }
      ]
    },
    {
      "cell_type": "markdown",
      "source": [
        "Converting all columns names into upper case:"
      ],
      "metadata": {
        "id": "cA0Pg8lg_GSp"
      }
    },
    {
      "cell_type": "code",
      "source": [
        "import pandas as pd\n",
        "df=pd.read_csv(\"Coffe_sales.csv\")\n",
        "print(df.head())\n",
        "df.columns=df.columns.str.upper()\n",
        "print(df.head())"
      ],
      "metadata": {
        "colab": {
          "base_uri": "https://localhost:8080/"
        },
        "id": "uRlfAE0h7JiY",
        "outputId": "9fbbac8a-92e6-48dd-e297-bd9c0bc276b6"
      },
      "execution_count": 49,
      "outputs": [
        {
          "output_type": "stream",
          "name": "stdout",
          "text": [
            "   hour_of_day cash_type  money    coffee_name Time_of_Day Weekday Month_name  \\\n",
            "0           10      card   38.7          Latte     Morning     Fri        Mar   \n",
            "1           12      card   38.7  Hot Chocolate   Afternoon     Fri        Mar   \n",
            "2           12      card   38.7  Hot Chocolate   Afternoon     Fri        Mar   \n",
            "3           13      card   28.9      Americano   Afternoon     Fri        Mar   \n",
            "4           13      card   38.7          Latte   Afternoon     Fri        Mar   \n",
            "\n",
            "   Weekdaysort  Monthsort        Date     Time  \n",
            "0            5          3  01-03-2024  15:50.5  \n",
            "1            5          3  01-03-2024  19:22.5  \n",
            "2            5          3  01-03-2024  20:18.1  \n",
            "3            5          3  01-03-2024  46:33.0  \n",
            "4            5          3  01-03-2024  48:14.6  \n",
            "   HOUR_OF_DAY CASH_TYPE  MONEY    COFFEE_NAME TIME_OF_DAY WEEKDAY MONTH_NAME  \\\n",
            "0           10      card   38.7          Latte     Morning     Fri        Mar   \n",
            "1           12      card   38.7  Hot Chocolate   Afternoon     Fri        Mar   \n",
            "2           12      card   38.7  Hot Chocolate   Afternoon     Fri        Mar   \n",
            "3           13      card   28.9      Americano   Afternoon     Fri        Mar   \n",
            "4           13      card   38.7          Latte   Afternoon     Fri        Mar   \n",
            "\n",
            "   WEEKDAYSORT  MONTHSORT        DATE     TIME  \n",
            "0            5          3  01-03-2024  15:50.5  \n",
            "1            5          3  01-03-2024  19:22.5  \n",
            "2            5          3  01-03-2024  20:18.1  \n",
            "3            5          3  01-03-2024  46:33.0  \n",
            "4            5          3  01-03-2024  48:14.6  \n"
          ]
        }
      ]
    },
    {
      "cell_type": "markdown",
      "source": [
        "Converting all columns names into lower case:"
      ],
      "metadata": {
        "id": "B6k_NLYo_I5H"
      }
    },
    {
      "cell_type": "code",
      "source": [
        "import pandas as pd\n",
        "df=pd.read_csv(\"Coffe_sales.csv\")\n",
        "print(df.head(2))\n",
        "df.columns==df.columns.str.lower()\n",
        "print(df.head(2))"
      ],
      "metadata": {
        "colab": {
          "base_uri": "https://localhost:8080/"
        },
        "id": "Srp9-fPv7029",
        "outputId": "3b06469b-e15d-4f33-9bd3-83418f0e1d78"
      },
      "execution_count": 54,
      "outputs": [
        {
          "output_type": "stream",
          "name": "stdout",
          "text": [
            "   hour_of_day cash_type  money    coffee_name Time_of_Day Weekday Month_name  \\\n",
            "0           10      card   38.7          Latte     Morning     Fri        Mar   \n",
            "1           12      card   38.7  Hot Chocolate   Afternoon     Fri        Mar   \n",
            "\n",
            "   Weekdaysort  Monthsort        Date     Time  \n",
            "0            5          3  01-03-2024  15:50.5  \n",
            "1            5          3  01-03-2024  19:22.5  \n",
            "   hour_of_day cash_type  money    coffee_name Time_of_Day Weekday Month_name  \\\n",
            "0           10      card   38.7          Latte     Morning     Fri        Mar   \n",
            "1           12      card   38.7  Hot Chocolate   Afternoon     Fri        Mar   \n",
            "\n",
            "   Weekdaysort  Monthsort        Date     Time  \n",
            "0            5          3  01-03-2024  15:50.5  \n",
            "1            5          3  01-03-2024  19:22.5  \n"
          ]
        }
      ]
    },
    {
      "cell_type": "markdown",
      "source": [],
      "metadata": {
        "id": "uzxvnr39_NCb"
      }
    },
    {
      "cell_type": "code",
      "source": [],
      "metadata": {
        "id": "rhm2QpDy9Lik"
      },
      "execution_count": null,
      "outputs": []
    }
  ]
}