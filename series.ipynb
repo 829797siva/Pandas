{
  "nbformat": 4,
  "nbformat_minor": 0,
  "metadata": {
    "colab": {
      "provenance": [],
      "authorship_tag": "ABX9TyPTKbyuDTMcyZz3N4AUFnxc",
      "include_colab_link": true
    },
    "kernelspec": {
      "name": "python3",
      "display_name": "Python 3"
    },
    "language_info": {
      "name": "python"
    }
  },
  "cells": [
    {
      "cell_type": "markdown",
      "metadata": {
        "id": "view-in-github",
        "colab_type": "text"
      },
      "source": [
        "<a href=\"https://colab.research.google.com/github/829797siva/Pandas/blob/main/series.ipynb\" target=\"_parent\"><img src=\"https://colab.research.google.com/assets/colab-badge.svg\" alt=\"Open In Colab\"/></a>"
      ]
    },
    {
      "cell_type": "markdown",
      "source": [
        "**SERIES:**\n",
        "\n",
        "*  1D labeled array in Pandas\n",
        "\n",
        "*  Building block of DataFrame\n",
        "\n",
        "*  Can hold int, float, string, object, etc.\n",
        "\n",
        "*   A Series has two main components:\n",
        "\n",
        "  1.  Values → The actual data.\n",
        "\n",
        "  2.  Index → Labels for each value (like row numbers, but customizable).\n",
        "\n",
        "\n",
        "\n"
      ],
      "metadata": {
        "id": "BTLUc1VhC3LQ"
      }
    },
    {
      "cell_type": "code",
      "source": [
        "import pandas as pd\n",
        "data=pd.Series() # empty object\n",
        "print(data)"
      ],
      "metadata": {
        "colab": {
          "base_uri": "https://localhost:8080/"
        },
        "id": "r0N35-BNDQl0",
        "outputId": "a405972e-71c3-4da2-ea4b-8a2cce4a1fc3"
      },
      "execution_count": null,
      "outputs": [
        {
          "output_type": "stream",
          "name": "stdout",
          "text": [
            "Series([], dtype: object)\n"
          ]
        }
      ]
    },
    {
      "cell_type": "code",
      "source": [
        "import pandas as pd\n",
        "data=(1,2,3,4,5) # creating Series object using tuple\n",
        "data1=pd.Series(data)\n",
        "print(data1)"
      ],
      "metadata": {
        "colab": {
          "base_uri": "https://localhost:8080/"
        },
        "id": "JTAZzCmsEtph",
        "outputId": "2315cfe8-5a22-4a5f-9814-2ef61796b96e"
      },
      "execution_count": null,
      "outputs": [
        {
          "output_type": "stream",
          "name": "stdout",
          "text": [
            "0    1\n",
            "1    2\n",
            "2    3\n",
            "3    4\n",
            "4    5\n",
            "dtype: int64\n"
          ]
        }
      ]
    },
    {
      "cell_type": "code",
      "source": [
        "import pandas as pd\n",
        "data=[1,2,3,4,6,5] # creating Series object using list, assigning a name\n",
        "data1=pd.Series(data,name='marks')\n",
        "print(data1)"
      ],
      "metadata": {
        "colab": {
          "base_uri": "https://localhost:8080/"
        },
        "id": "E2UKPENeI9_f",
        "outputId": "57468711-c5f1-4681-a950-6923bba7e17b"
      },
      "execution_count": null,
      "outputs": [
        {
          "output_type": "stream",
          "name": "stdout",
          "text": [
            "0    1\n",
            "1    2\n",
            "2    3\n",
            "3    4\n",
            "4    6\n",
            "5    5\n",
            "Name: marks, dtype: int64\n"
          ]
        }
      ]
    },
    {
      "cell_type": "code",
      "source": [
        "import pandas as pd\n",
        "data=[1,2,3,4,5] # creating Series object using list\n",
        "data1=pd.Series(data)\n",
        "print(data1)"
      ],
      "metadata": {
        "colab": {
          "base_uri": "https://localhost:8080/"
        },
        "id": "xlaPxXnsFMbB",
        "outputId": "985befab-a64c-4411-9707-e26d09e9326e"
      },
      "execution_count": null,
      "outputs": [
        {
          "output_type": "stream",
          "name": "stdout",
          "text": [
            "0    1\n",
            "1    2\n",
            "2    3\n",
            "3    4\n",
            "4    5\n",
            "dtype: int64\n"
          ]
        }
      ]
    },
    {
      "cell_type": "code",
      "source": [
        "import pandas as pd\n",
        "values=[\"john\",\"jock\",\"robo\"] # creating Series object using list, assigning a name\n",
        "data=pd.Series(values,name='students')\n",
        "print(data)\n"
      ],
      "metadata": {
        "colab": {
          "base_uri": "https://localhost:8080/"
        },
        "id": "3AUN8ZZFKKl3",
        "outputId": "be388d54-90b7-4cee-bf8c-ee2ad9fe8239"
      },
      "execution_count": null,
      "outputs": [
        {
          "output_type": "stream",
          "name": "stdout",
          "text": [
            "0    john\n",
            "1    jock\n",
            "2    robo\n",
            "Name: students, dtype: object\n"
          ]
        }
      ]
    },
    {
      "cell_type": "code",
      "source": [
        "import pandas as pd\n",
        "data=range(9)    #creating Series object by using range and list.\n",
        "data1=pd.Series(data)\n",
        "print(data1)"
      ],
      "metadata": {
        "colab": {
          "base_uri": "https://localhost:8080/"
        },
        "id": "yP_y5G6fKe8j",
        "outputId": "bd893084-6603-4ac8-d2f7-e06ae31c0644"
      },
      "execution_count": null,
      "outputs": [
        {
          "output_type": "stream",
          "name": "stdout",
          "text": [
            "0    0\n",
            "1    1\n",
            "2    2\n",
            "3    3\n",
            "4    4\n",
            "5    5\n",
            "6    6\n",
            "7    7\n",
            "8    8\n",
            "dtype: int64\n"
          ]
        }
      ]
    },
    {
      "cell_type": "markdown",
      "source": [
        "Create a Series from array\n",
        " 1. We can pass array as an argument to the Series.\n",
        " 2.  By default, index is assigned to every element."
      ],
      "metadata": {
        "id": "VgN1VG0oLDju"
      }
    },
    {
      "cell_type": "code",
      "source": [
        "import pandas as pd\n",
        "import numpy as np\n",
        "values=[1,2,3,4,5]\n",
        "data=np.array(values)   # creating ndarray\n",
        "print(data)"
      ],
      "metadata": {
        "colab": {
          "base_uri": "https://localhost:8080/"
        },
        "id": "QqwOA8QYLPbc",
        "outputId": "de735fb6-0699-4f79-ad53-af58a7fb38b7"
      },
      "execution_count": null,
      "outputs": [
        {
          "output_type": "stream",
          "name": "stdout",
          "text": [
            "[1 2 3 4 5]\n"
          ]
        }
      ]
    },
    {
      "cell_type": "code",
      "source": [
        "import pandas as pd\n",
        "import numpy as np\n",
        "data=[10,20,30,40,50,6,0]    #  creating ndarray and passing argument to the Series\n",
        "data1=pd.Series(data)\n",
        "print(data1)"
      ],
      "metadata": {
        "colab": {
          "base_uri": "https://localhost:8080/"
        },
        "id": "UeYgjNxCLtBz",
        "outputId": "2bfa078f-7313-46bf-d14d-106d3672a26b"
      },
      "execution_count": null,
      "outputs": [
        {
          "output_type": "stream",
          "name": "stdout",
          "text": [
            "0    10\n",
            "1    20\n",
            "2    30\n",
            "3    40\n",
            "4    50\n",
            "5     6\n",
            "6     0\n",
            "dtype: int64\n"
          ]
        }
      ]
    },
    {
      "cell_type": "code",
      "source": [
        "import pandas as pd\n",
        "import numpy as np\n",
        "values=['j','y','o','s','h','n','a']\n",
        "data=np.array(values)     # creating Series object using array\n",
        "data1=pd.Series(data)\n",
        "print(data1)"
      ],
      "metadata": {
        "colab": {
          "base_uri": "https://localhost:8080/"
        },
        "id": "ZeP0v3i7NnYk",
        "outputId": "66ef5b81-8414-4f61-b747-07bf828caf8a"
      },
      "execution_count": null,
      "outputs": [
        {
          "output_type": "stream",
          "name": "stdout",
          "text": [
            "0    j\n",
            "1    y\n",
            "2    o\n",
            "3    s\n",
            "4    h\n",
            "5    n\n",
            "6    a\n",
            "dtype: object\n"
          ]
        }
      ]
    },
    {
      "cell_type": "markdown",
      "source": [
        "**Creating Series by column from DataFrame**:\n",
        "\n",
        "*  If we select single column from DataFrame then it returns Series object.\n",
        "\n",
        "  Index in Series:\n",
        "\n",
        "  index:\n",
        "\n",
        "* Index means, the position of value where it stores.\n",
        "* By default, index is assigned to every value.\n",
        "* From the output, the left most column is the index column.\n",
        "\n",
        " **Index default value :**\n",
        "\n",
        "*   The default values for an index are integers.\n",
        "*   The index starts from 0, 1, 2, 3, etc.\n",
        "\n",
        "\n",
        "\n",
        "\n",
        "\n",
        "\n",
        "\n",
        "\n",
        "\n"
      ],
      "metadata": {
        "id": "DWDSE_Y5OdU5"
      }
    },
    {
      "cell_type": "code",
      "source": [
        "# Creating Series\n",
        "import pandas as pd\n",
        "values=[1,2,3,4,5]\n",
        "data=pd.Series(values)\n",
        "print(data)"
      ],
      "metadata": {
        "colab": {
          "base_uri": "https://localhost:8080/"
        },
        "id": "TjhLI6x6NqGK",
        "outputId": "fe02b5e5-84dc-468a-e9e1-4ec5a6175404"
      },
      "execution_count": null,
      "outputs": [
        {
          "output_type": "stream",
          "name": "stdout",
          "text": [
            "0    1\n",
            "1    2\n",
            "2    3\n",
            "3    4\n",
            "4    5\n",
            "dtype: int64\n"
          ]
        }
      ]
    },
    {
      "cell_type": "code",
      "source": [
        "import pandas as pd\n",
        "prices = [1000, 2000, 3000, 4000]\n",
        "products = [\"Nokia\", \"Samsung\", \"Oppo\", \"iPhone 6\"]\n",
        "# Creating Series object and giving name and index\n",
        "s = pd.Series(prices, name = 'mobiles', index = products )\n",
        "print(s)"
      ],
      "metadata": {
        "colab": {
          "base_uri": "https://localhost:8080/"
        },
        "id": "llDsMeO-nk_C",
        "outputId": "044e2594-dd78-4922-f490-ab75b566c699"
      },
      "execution_count": null,
      "outputs": [
        {
          "output_type": "stream",
          "name": "stdout",
          "text": [
            "Nokia       1000\n",
            "Samsung     2000\n",
            "Oppo        3000\n",
            "iPhone 6    4000\n",
            "Name: mobiles, dtype: int64\n"
          ]
        }
      ]
    },
    {
      "cell_type": "code",
      "source": [
        "import pandas as pd\n",
        "v = [56, 45, 35, 41, 44, 60]\n",
        "s = pd.Series(v, name = \"marks\")\n",
        "\n",
        "#   Creating Series and accessing values\n",
        "\n",
        "print(s)\n",
        "print()\n",
        "print(s[0])\n",
        "print(s[1])"
      ],
      "metadata": {
        "colab": {
          "base_uri": "https://localhost:8080/"
        },
        "id": "TQZVAxn3RMVr",
        "outputId": "bf78347f-d57d-4a32-807b-9124123558ee"
      },
      "execution_count": null,
      "outputs": [
        {
          "output_type": "stream",
          "name": "stdout",
          "text": [
            "0    56\n",
            "1    45\n",
            "2    35\n",
            "3    41\n",
            "4    44\n",
            "5    60\n",
            "Name: marks, dtype: int64\n",
            "\n",
            "56\n",
            "45\n"
          ]
        }
      ]
    },
    {
      "cell_type": "code",
      "source": [],
      "metadata": {
        "id": "myvnmDjUnYNU"
      },
      "execution_count": null,
      "outputs": []
    }
  ]
}