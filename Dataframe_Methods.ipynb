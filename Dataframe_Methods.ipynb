{
  "nbformat": 4,
  "nbformat_minor": 0,
  "metadata": {
    "colab": {
      "provenance": [],
      "authorship_tag": "ABX9TyPBwZ2GUdnTC4YTEv3aN2VX",
      "include_colab_link": true
    },
    "kernelspec": {
      "name": "python3",
      "display_name": "Python 3"
    },
    "language_info": {
      "name": "python"
    }
  },
  "cells": [
    {
      "cell_type": "markdown",
      "metadata": {
        "id": "view-in-github",
        "colab_type": "text"
      },
      "source": [
        "<a href=\"https://colab.research.google.com/github/829797siva/Pandas/blob/main/Dataframe_Methods.ipynb\" target=\"_parent\"><img src=\"https://colab.research.google.com/assets/colab-badge.svg\" alt=\"Open In Colab\"/></a>"
      ]
    },
    {
      "cell_type": "code",
      "execution_count": 1,
      "metadata": {
        "id": "PL5MKcgluAnr",
        "colab": {
          "base_uri": "https://localhost:8080/",
          "height": 73
        },
        "outputId": "08c2ef4b-0571-4691-c70b-3c3cf3136d15"
      },
      "outputs": [
        {
          "output_type": "display_data",
          "data": {
            "text/plain": [
              "<IPython.core.display.HTML object>"
            ],
            "text/html": [
              "\n",
              "     <input type=\"file\" id=\"files-14670e4f-9794-4a89-b99a-882ebe55e31a\" name=\"files[]\" multiple disabled\n",
              "        style=\"border:none\" />\n",
              "     <output id=\"result-14670e4f-9794-4a89-b99a-882ebe55e31a\">\n",
              "      Upload widget is only available when the cell has been executed in the\n",
              "      current browser session. Please rerun this cell to enable.\n",
              "      </output>\n",
              "      <script>// Copyright 2017 Google LLC\n",
              "//\n",
              "// Licensed under the Apache License, Version 2.0 (the \"License\");\n",
              "// you may not use this file except in compliance with the License.\n",
              "// You may obtain a copy of the License at\n",
              "//\n",
              "//      http://www.apache.org/licenses/LICENSE-2.0\n",
              "//\n",
              "// Unless required by applicable law or agreed to in writing, software\n",
              "// distributed under the License is distributed on an \"AS IS\" BASIS,\n",
              "// WITHOUT WARRANTIES OR CONDITIONS OF ANY KIND, either express or implied.\n",
              "// See the License for the specific language governing permissions and\n",
              "// limitations under the License.\n",
              "\n",
              "/**\n",
              " * @fileoverview Helpers for google.colab Python module.\n",
              " */\n",
              "(function(scope) {\n",
              "function span(text, styleAttributes = {}) {\n",
              "  const element = document.createElement('span');\n",
              "  element.textContent = text;\n",
              "  for (const key of Object.keys(styleAttributes)) {\n",
              "    element.style[key] = styleAttributes[key];\n",
              "  }\n",
              "  return element;\n",
              "}\n",
              "\n",
              "// Max number of bytes which will be uploaded at a time.\n",
              "const MAX_PAYLOAD_SIZE = 100 * 1024;\n",
              "\n",
              "function _uploadFiles(inputId, outputId) {\n",
              "  const steps = uploadFilesStep(inputId, outputId);\n",
              "  const outputElement = document.getElementById(outputId);\n",
              "  // Cache steps on the outputElement to make it available for the next call\n",
              "  // to uploadFilesContinue from Python.\n",
              "  outputElement.steps = steps;\n",
              "\n",
              "  return _uploadFilesContinue(outputId);\n",
              "}\n",
              "\n",
              "// This is roughly an async generator (not supported in the browser yet),\n",
              "// where there are multiple asynchronous steps and the Python side is going\n",
              "// to poll for completion of each step.\n",
              "// This uses a Promise to block the python side on completion of each step,\n",
              "// then passes the result of the previous step as the input to the next step.\n",
              "function _uploadFilesContinue(outputId) {\n",
              "  const outputElement = document.getElementById(outputId);\n",
              "  const steps = outputElement.steps;\n",
              "\n",
              "  const next = steps.next(outputElement.lastPromiseValue);\n",
              "  return Promise.resolve(next.value.promise).then((value) => {\n",
              "    // Cache the last promise value to make it available to the next\n",
              "    // step of the generator.\n",
              "    outputElement.lastPromiseValue = value;\n",
              "    return next.value.response;\n",
              "  });\n",
              "}\n",
              "\n",
              "/**\n",
              " * Generator function which is called between each async step of the upload\n",
              " * process.\n",
              " * @param {string} inputId Element ID of the input file picker element.\n",
              " * @param {string} outputId Element ID of the output display.\n",
              " * @return {!Iterable<!Object>} Iterable of next steps.\n",
              " */\n",
              "function* uploadFilesStep(inputId, outputId) {\n",
              "  const inputElement = document.getElementById(inputId);\n",
              "  inputElement.disabled = false;\n",
              "\n",
              "  const outputElement = document.getElementById(outputId);\n",
              "  outputElement.innerHTML = '';\n",
              "\n",
              "  const pickedPromise = new Promise((resolve) => {\n",
              "    inputElement.addEventListener('change', (e) => {\n",
              "      resolve(e.target.files);\n",
              "    });\n",
              "  });\n",
              "\n",
              "  const cancel = document.createElement('button');\n",
              "  inputElement.parentElement.appendChild(cancel);\n",
              "  cancel.textContent = 'Cancel upload';\n",
              "  const cancelPromise = new Promise((resolve) => {\n",
              "    cancel.onclick = () => {\n",
              "      resolve(null);\n",
              "    };\n",
              "  });\n",
              "\n",
              "  // Wait for the user to pick the files.\n",
              "  const files = yield {\n",
              "    promise: Promise.race([pickedPromise, cancelPromise]),\n",
              "    response: {\n",
              "      action: 'starting',\n",
              "    }\n",
              "  };\n",
              "\n",
              "  cancel.remove();\n",
              "\n",
              "  // Disable the input element since further picks are not allowed.\n",
              "  inputElement.disabled = true;\n",
              "\n",
              "  if (!files) {\n",
              "    return {\n",
              "      response: {\n",
              "        action: 'complete',\n",
              "      }\n",
              "    };\n",
              "  }\n",
              "\n",
              "  for (const file of files) {\n",
              "    const li = document.createElement('li');\n",
              "    li.append(span(file.name, {fontWeight: 'bold'}));\n",
              "    li.append(span(\n",
              "        `(${file.type || 'n/a'}) - ${file.size} bytes, ` +\n",
              "        `last modified: ${\n",
              "            file.lastModifiedDate ? file.lastModifiedDate.toLocaleDateString() :\n",
              "                                    'n/a'} - `));\n",
              "    const percent = span('0% done');\n",
              "    li.appendChild(percent);\n",
              "\n",
              "    outputElement.appendChild(li);\n",
              "\n",
              "    const fileDataPromise = new Promise((resolve) => {\n",
              "      const reader = new FileReader();\n",
              "      reader.onload = (e) => {\n",
              "        resolve(e.target.result);\n",
              "      };\n",
              "      reader.readAsArrayBuffer(file);\n",
              "    });\n",
              "    // Wait for the data to be ready.\n",
              "    let fileData = yield {\n",
              "      promise: fileDataPromise,\n",
              "      response: {\n",
              "        action: 'continue',\n",
              "      }\n",
              "    };\n",
              "\n",
              "    // Use a chunked sending to avoid message size limits. See b/62115660.\n",
              "    let position = 0;\n",
              "    do {\n",
              "      const length = Math.min(fileData.byteLength - position, MAX_PAYLOAD_SIZE);\n",
              "      const chunk = new Uint8Array(fileData, position, length);\n",
              "      position += length;\n",
              "\n",
              "      const base64 = btoa(String.fromCharCode.apply(null, chunk));\n",
              "      yield {\n",
              "        response: {\n",
              "          action: 'append',\n",
              "          file: file.name,\n",
              "          data: base64,\n",
              "        },\n",
              "      };\n",
              "\n",
              "      let percentDone = fileData.byteLength === 0 ?\n",
              "          100 :\n",
              "          Math.round((position / fileData.byteLength) * 100);\n",
              "      percent.textContent = `${percentDone}% done`;\n",
              "\n",
              "    } while (position < fileData.byteLength);\n",
              "  }\n",
              "\n",
              "  // All done.\n",
              "  yield {\n",
              "    response: {\n",
              "      action: 'complete',\n",
              "    }\n",
              "  };\n",
              "}\n",
              "\n",
              "scope.google = scope.google || {};\n",
              "scope.google.colab = scope.google.colab || {};\n",
              "scope.google.colab._files = {\n",
              "  _uploadFiles,\n",
              "  _uploadFilesContinue,\n",
              "};\n",
              "})(self);\n",
              "</script> "
            ]
          },
          "metadata": {}
        },
        {
          "output_type": "stream",
          "name": "stdout",
          "text": [
            "Saving Coffe_sales.csv to Coffe_sales.csv\n"
          ]
        }
      ],
      "source": [
        "from google.colab import files\n",
        "uploaded = files.upload()"
      ]
    },
    {
      "cell_type": "markdown",
      "source": [
        "Accessing first five rows from DataFrame:(head())"
      ],
      "metadata": {
        "id": "5f1L9Ua7rhM1"
      }
    },
    {
      "cell_type": "code",
      "source": [
        "import pandas as pd\n",
        "df=pd.read_csv(\"Coffe_sales.csv\")\n",
        "print(df.head())"
      ],
      "metadata": {
        "colab": {
          "base_uri": "https://localhost:8080/"
        },
        "id": "kzC8nAIaPbvq",
        "outputId": "0be271ca-d199-41c4-db26-7d2a9582229c"
      },
      "execution_count": null,
      "outputs": [
        {
          "output_type": "stream",
          "name": "stdout",
          "text": [
            "   hour_of_day cash_type  money    coffee_name Time_of_Day Weekday Month_name  \\\n",
            "0           10      card   38.7          Latte     Morning     Fri        Mar   \n",
            "1           12      card   38.7  Hot Chocolate   Afternoon     Fri        Mar   \n",
            "2           12      card   38.7  Hot Chocolate   Afternoon     Fri        Mar   \n",
            "3           13      card   28.9      Americano   Afternoon     Fri        Mar   \n",
            "4           13      card   38.7          Latte   Afternoon     Fri        Mar   \n",
            "\n",
            "   Weekdaysort  Monthsort        Date     Time  \n",
            "0            5          3  01-03-2024  15:50.5  \n",
            "1            5          3  01-03-2024  19:22.5  \n",
            "2            5          3  01-03-2024  20:18.1  \n",
            "3            5          3  01-03-2024  46:33.0  \n",
            "4            5          3  01-03-2024  48:14.6  \n"
          ]
        }
      ]
    },
    {
      "cell_type": "markdown",
      "source": [
        "Accessing first ten rows from DataFrame:"
      ],
      "metadata": {
        "id": "rjQSl5AgrnMR"
      }
    },
    {
      "cell_type": "code",
      "source": [
        "import pandas as pd\n",
        "df=pd.read_csv(\"Coffe_sales.csv\")\n",
        "print(df.head(10))"
      ],
      "metadata": {
        "colab": {
          "base_uri": "https://localhost:8080/"
        },
        "id": "nuVhFVpOQWqV",
        "outputId": "0621c82a-46e6-418e-b5f7-388a356e4ade"
      },
      "execution_count": null,
      "outputs": [
        {
          "output_type": "stream",
          "name": "stdout",
          "text": [
            "   hour_of_day cash_type  money          coffee_name Time_of_Day Weekday  \\\n",
            "0           10      card   38.7                Latte     Morning     Fri   \n",
            "1           12      card   38.7        Hot Chocolate   Afternoon     Fri   \n",
            "2           12      card   38.7        Hot Chocolate   Afternoon     Fri   \n",
            "3           13      card   28.9            Americano   Afternoon     Fri   \n",
            "4           13      card   38.7                Latte   Afternoon     Fri   \n",
            "5           15      card   33.8  Americano with Milk   Afternoon     Fri   \n",
            "6           16      card   38.7        Hot Chocolate   Afternoon     Fri   \n",
            "7           18      card   33.8  Americano with Milk       Night     Fri   \n",
            "8           19      card   38.7                Cocoa       Night     Fri   \n",
            "9           19      card   33.8  Americano with Milk       Night     Fri   \n",
            "\n",
            "  Month_name  Weekdaysort  Monthsort        Date     Time  \n",
            "0        Mar            5          3  01-03-2024  15:50.5  \n",
            "1        Mar            5          3  01-03-2024  19:22.5  \n",
            "2        Mar            5          3  01-03-2024  20:18.1  \n",
            "3        Mar            5          3  01-03-2024  46:33.0  \n",
            "4        Mar            5          3  01-03-2024  48:14.6  \n",
            "5        Mar            5          3  01-03-2024  39:47.7  \n",
            "6        Mar            5          3  01-03-2024  19:02.8  \n",
            "7        Mar            5          3  01-03-2024  39:03.6  \n",
            "8        Mar            5          3  01-03-2024  22:01.8  \n",
            "9        Mar            5          3  01-03-2024  23:15.9  \n"
          ]
        }
      ]
    },
    {
      "cell_type": "markdown",
      "source": [
        "Accessing last five rows from DataFrame:(tail())"
      ],
      "metadata": {
        "id": "w0x_OdQirq7o"
      }
    },
    {
      "cell_type": "code",
      "source": [
        "import pandas as pd\n",
        "df=pd.read_csv(\"Coffe_sales.csv\")\n",
        "print(df.tail())"
      ],
      "metadata": {
        "colab": {
          "base_uri": "https://localhost:8080/"
        },
        "id": "0bePzf8_Qg1k",
        "outputId": "ad4b11bf-c6c5-4736-f3d4-f6418aa3e7ab"
      },
      "execution_count": null,
      "outputs": [
        {
          "output_type": "stream",
          "name": "stdout",
          "text": [
            "      hour_of_day cash_type  money coffee_name Time_of_Day Weekday Month_name  \\\n",
            "3542           10      card  35.76  Cappuccino     Morning     Sun        Mar   \n",
            "3543           14      card  35.76       Cocoa   Afternoon     Sun        Mar   \n",
            "3544           14      card  35.76       Cocoa   Afternoon     Sun        Mar   \n",
            "3545           15      card  25.96   Americano   Afternoon     Sun        Mar   \n",
            "3546           18      card  35.76       Latte       Night     Sun        Mar   \n",
            "\n",
            "      Weekdaysort  Monthsort        Date     Time  \n",
            "3542            7          3  23-03-2025  34:54.9  \n",
            "3543            7          3  23-03-2025  43:37.4  \n",
            "3544            7          3  23-03-2025  44:16.9  \n",
            "3545            7          3  23-03-2025  47:28.7  \n",
            "3546            7          3  23-03-2025  11:38.6  \n"
          ]
        }
      ]
    },
    {
      "cell_type": "markdown",
      "source": [
        "Accessing last ten rows from DataFrame:"
      ],
      "metadata": {
        "id": "5yaPHOecr3Px"
      }
    },
    {
      "cell_type": "code",
      "source": [
        "import pandas as pd\n",
        "df=pd.read_csv(\"Coffe_sales.csv\")\n",
        "print(df.tail(10))"
      ],
      "metadata": {
        "colab": {
          "base_uri": "https://localhost:8080/"
        },
        "id": "1wyHZ8V4Rmnj",
        "outputId": "715603a6-8b38-43a1-9f80-f61fea2ad58e"
      },
      "execution_count": null,
      "outputs": [
        {
          "output_type": "stream",
          "name": "stdout",
          "text": [
            "      hour_of_day cash_type  money          coffee_name Time_of_Day Weekday  \\\n",
            "3537           15      card  21.06             Espresso   Afternoon     Sat   \n",
            "3538           16      card  35.76                Latte   Afternoon     Sat   \n",
            "3539           17      card  30.86  Americano with Milk       Night     Sat   \n",
            "3540           19      card  30.86  Americano with Milk       Night     Sat   \n",
            "3541           10      card  35.76                Latte     Morning     Sun   \n",
            "3542           10      card  35.76           Cappuccino     Morning     Sun   \n",
            "3543           14      card  35.76                Cocoa   Afternoon     Sun   \n",
            "3544           14      card  35.76                Cocoa   Afternoon     Sun   \n",
            "3545           15      card  25.96            Americano   Afternoon     Sun   \n",
            "3546           18      card  35.76                Latte       Night     Sun   \n",
            "\n",
            "     Month_name  Weekdaysort  Monthsort        Date     Time  \n",
            "3537        Mar            6          3  22-03-2025  57:58.2  \n",
            "3538        Mar            6          3  22-03-2025  26:59.8  \n",
            "3539        Mar            6          3  22-03-2025  53:35.9  \n",
            "3540        Mar            6          3  22-03-2025  16:52.7  \n",
            "3541        Mar            7          3  23-03-2025  07:11.3  \n",
            "3542        Mar            7          3  23-03-2025  34:54.9  \n",
            "3543        Mar            7          3  23-03-2025  43:37.4  \n",
            "3544        Mar            7          3  23-03-2025  44:16.9  \n",
            "3545        Mar            7          3  23-03-2025  47:28.7  \n",
            "3546        Mar            7          3  23-03-2025  11:38.6  \n"
          ]
        }
      ]
    },
    {
      "cell_type": "markdown",
      "source": [
        "**describe()**:\n",
        "\n",
        " This method returns the below values,\n",
        "\n",
        "o count\n",
        "\n",
        "o mean  \n",
        "\n",
        "o std\n",
        "\n",
        "o min\n",
        "\n",
        "o 25%\n",
        "\n",
        "o 50%\n",
        "\n",
        "o 75%\n",
        "\n",
        "o max"
      ],
      "metadata": {
        "id": "hAjGHQbZr7mN"
      }
    },
    {
      "cell_type": "code",
      "source": [
        "import pandas as pd\n",
        "df=pd.read_csv(\"Coffe_sales.csv\")\n",
        "print(df.describe())"
      ],
      "metadata": {
        "colab": {
          "base_uri": "https://localhost:8080/"
        },
        "id": "q3iw-nb7QtHH",
        "outputId": "218bf579-05ca-4f31-8eb3-56b500ae2db1"
      },
      "execution_count": null,
      "outputs": [
        {
          "output_type": "stream",
          "name": "stdout",
          "text": [
            "       hour_of_day        money  Weekdaysort    Monthsort\n",
            "count  3547.000000  3547.000000  3547.000000  3547.000000\n",
            "mean     14.185791    31.645216     3.845785     6.453905\n",
            "std       4.234010     4.877754     1.971501     3.500754\n",
            "min       6.000000    18.120000     1.000000     1.000000\n",
            "25%      10.000000    27.920000     2.000000     3.000000\n",
            "50%      14.000000    32.820000     4.000000     7.000000\n",
            "75%      18.000000    35.760000     6.000000    10.000000\n",
            "max      22.000000    38.700000     7.000000    12.000000\n"
          ]
        }
      ]
    },
    {
      "cell_type": "markdown",
      "source": [
        "**Info():**\n",
        "This method returns below information about DataFrame\n",
        "\n",
        "o Type of object\n",
        "\n",
        "o Range of object\n",
        "\n",
        "o Number of columns\n",
        "\n",
        "o Number of rows\n",
        "\n",
        "o The data type of each column\n",
        "\n",
        "o Number of data types\n",
        "\n",
        "o Total memory usage"
      ],
      "metadata": {
        "id": "pkr770UksZT9"
      }
    },
    {
      "cell_type": "code",
      "source": [
        "import pandas as pd\n",
        "df=pd.read_csv(\"Coffe_sales.csv\")\n",
        "print(df.info())"
      ],
      "metadata": {
        "colab": {
          "base_uri": "https://localhost:8080/"
        },
        "id": "NasO-FafQ3WF",
        "outputId": "a1de15da-a843-4ab3-d9c1-c58d9c0139af"
      },
      "execution_count": null,
      "outputs": [
        {
          "output_type": "stream",
          "name": "stdout",
          "text": [
            "<class 'pandas.core.frame.DataFrame'>\n",
            "RangeIndex: 3547 entries, 0 to 3546\n",
            "Data columns (total 11 columns):\n",
            " #   Column       Non-Null Count  Dtype  \n",
            "---  ------       --------------  -----  \n",
            " 0   hour_of_day  3547 non-null   int64  \n",
            " 1   cash_type    3547 non-null   object \n",
            " 2   money        3547 non-null   float64\n",
            " 3   coffee_name  3547 non-null   object \n",
            " 4   Time_of_Day  3547 non-null   object \n",
            " 5   Weekday      3547 non-null   object \n",
            " 6   Month_name   3547 non-null   object \n",
            " 7   Weekdaysort  3547 non-null   int64  \n",
            " 8   Monthsort    3547 non-null   int64  \n",
            " 9   Date         3547 non-null   object \n",
            " 10  Time         3547 non-null   object \n",
            "dtypes: float64(1), int64(3), object(7)\n",
            "memory usage: 304.9+ KB\n",
            "None\n"
          ]
        }
      ]
    },
    {
      "cell_type": "markdown",
      "source": [
        "**Count():**\n",
        "\n",
        "This method returns number of  non-null values from each column."
      ],
      "metadata": {
        "id": "p0s2HZs9sqqK"
      }
    },
    {
      "cell_type": "code",
      "source": [
        "import pandas as pd\n",
        "df=pd.read_csv(\"Coffe_sales.csv\")\n",
        "print(df.count())"
      ],
      "metadata": {
        "colab": {
          "base_uri": "https://localhost:8080/"
        },
        "id": "f6iZjqdYRA8f",
        "outputId": "05fba592-adc2-4f0b-ef7a-8a647641aab3"
      },
      "execution_count": null,
      "outputs": [
        {
          "output_type": "stream",
          "name": "stdout",
          "text": [
            "hour_of_day    3547\n",
            "cash_type      3547\n",
            "money          3547\n",
            "coffee_name    3547\n",
            "Time_of_Day    3547\n",
            "Weekday        3547\n",
            "Month_name     3547\n",
            "Weekdaysort    3547\n",
            "Monthsort      3547\n",
            "Date           3547\n",
            "Time           3547\n",
            "dtype: int64\n"
          ]
        }
      ]
    },
    {
      "cell_type": "markdown",
      "source": [
        "**nunique():**\n",
        "\n",
        "This method returns number of unique values from the DataFrame."
      ],
      "metadata": {
        "id": "rBjYwU8wswXG"
      }
    },
    {
      "cell_type": "code",
      "source": [
        "import pandas as pd\n",
        "df=pd.read_csv(\"Coffe_sales.csv\")\n",
        "print(df.nunique())"
      ],
      "metadata": {
        "colab": {
          "base_uri": "https://localhost:8080/"
        },
        "id": "xD-yqTR-ovU0",
        "outputId": "5c065916-2809-4f02-cce6-638d73914fc7"
      },
      "execution_count": 2,
      "outputs": [
        {
          "output_type": "stream",
          "name": "stdout",
          "text": [
            "hour_of_day      17\n",
            "cash_type         1\n",
            "money            13\n",
            "coffee_name       8\n",
            "Time_of_Day       3\n",
            "Weekday           7\n",
            "Month_name       12\n",
            "Weekdaysort       7\n",
            "Monthsort        12\n",
            "Date            381\n",
            "Time           3373\n",
            "dtype: int64\n"
          ]
        }
      ]
    },
    {
      "cell_type": "markdown",
      "source": [
        "Accessing single column From DataFrame:"
      ],
      "metadata": {
        "id": "n9gD7-oZtFFK"
      }
    },
    {
      "cell_type": "code",
      "source": [
        "import pandas as pd\n",
        "df=pd.read_csv(\"Coffe_sales.csv\")\n",
        "print(df.money)"
      ],
      "metadata": {
        "id": "Rs43pIIxSuD1",
        "colab": {
          "base_uri": "https://localhost:8080/"
        },
        "outputId": "8e4edcd3-9c33-411f-eb59-6c36b7017261"
      },
      "execution_count": 3,
      "outputs": [
        {
          "output_type": "stream",
          "name": "stdout",
          "text": [
            "0       38.70\n",
            "1       38.70\n",
            "2       38.70\n",
            "3       28.90\n",
            "4       38.70\n",
            "        ...  \n",
            "3542    35.76\n",
            "3543    35.76\n",
            "3544    35.76\n",
            "3545    25.96\n",
            "3546    35.76\n",
            "Name: money, Length: 3547, dtype: float64\n"
          ]
        }
      ]
    },
    {
      "cell_type": "markdown",
      "source": [
        "Accessing two column from the DataFrame:\n"
      ],
      "metadata": {
        "id": "BoV9wU8stOrX"
      }
    },
    {
      "cell_type": "code",
      "source": [
        "df=pd.read_csv(\"Coffe_sales.csv\")\n",
        "print(df[[\"money\",\"Time\"]])"
      ],
      "metadata": {
        "colab": {
          "base_uri": "https://localhost:8080/"
        },
        "id": "Mlf_OAyZpbVt",
        "outputId": "324eff1f-676e-4c42-ff87-93e30a25bdd0"
      },
      "execution_count": 4,
      "outputs": [
        {
          "output_type": "stream",
          "name": "stdout",
          "text": [
            "      money     Time\n",
            "0     38.70  15:50.5\n",
            "1     38.70  19:22.5\n",
            "2     38.70  20:18.1\n",
            "3     28.90  46:33.0\n",
            "4     38.70  48:14.6\n",
            "...     ...      ...\n",
            "3542  35.76  34:54.9\n",
            "3543  35.76  43:37.4\n",
            "3544  35.76  44:16.9\n",
            "3545  25.96  47:28.7\n",
            "3546  35.76  11:38.6\n",
            "\n",
            "[3547 rows x 2 columns]\n"
          ]
        }
      ]
    },
    {
      "cell_type": "code",
      "source": [
        "df=pd.read_csv(\"Coffe_sales.csv\")\n",
        "print(df.loc[0])"
      ],
      "metadata": {
        "colab": {
          "base_uri": "https://localhost:8080/"
        },
        "id": "aEtTC0eNpoQX",
        "outputId": "950a4b7d-3c0e-4270-b1d9-1fe61c128575"
      },
      "execution_count": 5,
      "outputs": [
        {
          "output_type": "stream",
          "name": "stdout",
          "text": [
            "hour_of_day            10\n",
            "cash_type            card\n",
            "money                38.7\n",
            "coffee_name         Latte\n",
            "Time_of_Day       Morning\n",
            "Weekday               Fri\n",
            "Month_name            Mar\n",
            "Weekdaysort             5\n",
            "Monthsort               3\n",
            "Date           01-03-2024\n",
            "Time              15:50.5\n",
            "Name: 0, dtype: object\n"
          ]
        }
      ]
    },
    {
      "cell_type": "markdown",
      "source": [
        "Accessing single column from the DataFrame, applying sum:"
      ],
      "metadata": {
        "id": "agBcuXrPtWhc"
      }
    },
    {
      "cell_type": "code",
      "source": [
        "df=pd.read_csv(\"Coffe_sales.csv\")\n",
        "print(df[\"money\"].sum())"
      ],
      "metadata": {
        "colab": {
          "base_uri": "https://localhost:8080/"
        },
        "id": "yD9eqD28p2W9",
        "outputId": "f4d38439-859f-4f63-f481-1f41a0494061"
      },
      "execution_count": 6,
      "outputs": [
        {
          "output_type": "stream",
          "name": "stdout",
          "text": [
            "112245.57999999999\n"
          ]
        }
      ]
    },
    {
      "cell_type": "code",
      "source": [
        "df=pd.read_csv(\"Coffe_sales.csv\")\n",
        "print(df[\"Time\"].sum())"
      ],
      "metadata": {
        "colab": {
          "base_uri": "https://localhost:8080/"
        },
        "id": "TXBeY-XVqA2x",
        "outputId": "2b4b8ca7-0fac-4bc3-dc8d-3c2c09897467"
      },
      "execution_count": 7,
      "outputs": [
        {
          "output_type": "stream",
          "name": "stdout",
          "text": [
            "15:50.519:22.520:18.146:33.048:14.639:47.719:02.839:03.622:01.823:15.929:17.422:07.041:41.259:45.538:35.537:24.534:55.027:18.633:56.126:56.109:36.306:40.308:45.903:23.404:27.908:05.003:52.054:51.005:16.204:37.759:52.734:56.034:06.035:25.036:28.637:13.738:09.456:15.801:31.224:07.725:14.452:01.853:18.318:40.503:59.040:22.641:28.834:41.322:28.753:02.044:12.745:11.046:11.257:51.559:24.905:15.607:38.309:47.713:03.514:26.509:22.241:06.253:10.454:36.808:01.826:52.917:57.619:10.119:20.834:00.535:54.732:58.824:26.425:45.750:49.615:34.516:24.920:45.646:23.347:26.015:43.306:43.048:16.818:06.319:05.126:40.940:22.341:20.447:09.428:33.029:34.327:29.528:24.551:59.952:56.220:38.404:09.554:38.258:55.900:08.753:02.219:27.906:55.207:53.958:18.503:21.704:11.458:07.255:26.117:59.731:39.732:38.233:36.702:21.503:19.804:36.353:48.741:16.430:49.016:47.442:38.150:28.825:09.226:17.422:01.420:36.535:53.629:20.317:03.717:59.020:49.543:59.645:07.210:07.711:12.244:41.347:19.149:33.800:58.445:08.431:47.227:09.229:25.337:30.634:24.535:49.736:36.242:30.211:47.335:52.836:49.637:59.757:53.748:02.333:38.634:54.604:51.205:58.257:00.535:20.022:31.723:35.430:11.824:47.124:46.227:05.332:44.756:19.534:17.441:32.159:19.912:31.836:40.537:57.640:04.528:47.629:42.330:43.715:43.818:42.445:27.401:14.018:34.219:28.519:13.620:07.712:05.444:56.026:38.127:48.423:02.240:42.742:06.206:14.614:28.023:40.424:50.418:23.632:31.413:18.714:27.049:50.212:53.244:31.946:05.116:24.917:30.601:16.602:03.958:21.159:27.601:20.504:47.041:37.818:09.722:27.523:59.342:28.511:48.725:23.955:31.224:59.304:05.441:23.242:59.435:23.116:56.618:36.603:43.438:23.229:19.843:02.418:03.919:39.851:26.053:19.224:39.021:49.823:31.624:26.925:18.146:27.759:54.800:45.438:19.645:24.601:46.402:49.733:03.046:25.740:47.752:07.803:16.942:04.243:23.009:05.332:59.844:00.201:35.102:40.714:03.219:01.720:05.749:12.750:17.334:19.835:49.444:15.821:05.939:51.240:49.010:36.311:47.813:20.958:54.159:49.723:19.325:33.408:35.709:42.708:37.409:47.910:55.244:18.111:00.322:40.749:25.127:41.528:46.930:55.316:45.715:37.509:16.429:27.139:04.822:36.023:53.124:57.542:27.843:26.219:38.321:27.323:46.133:26.339:09.339:07.439:50.040:54.046:08.118:27.009:43.510:49.212:50.601:30.631:28.332:35.433:33.123:26.524:33.832:07.133:30.227:00.732:52.530:09.727:08.228:11.429:02.426:31.927:56.928:53.953:35.754:24.437:48.412:33.213:37.916:41.534:52.235:47.641:52.343:00.019:18.130:04.031:21.033:55.749:39.936:22.141:11.218:33.119:56.430:00.903:24.905:17.906:51.608:05.909:08.039:12.618:11.019:00.818:13.019:49.544:55.621:58.523:34.942:07.955:38.837:46.438:48.212:12.513:12.207:28.954:21.803:58.604:57.606:11.307:16.455:14.656:15.001:29.913:56.246:21.547:32.539:52.920:30.421:56.123:57.328:54.135:40.338:16.120:42.524:03.527:39.016:19.838:02.452:14.904:21.141:30.603:53.338:14.639:25.540:17.519:23.232:29.434:12.904:54.606:00.401:54.857:57.259:10.251:25.240:05.714:19.419:10.034:35.135:29.236:27.355:29.038:52.339:44.428:58.620:34.838:42.539:49.414:00.115:16.344:31.512:56.913:58.200:48.530:27.655:18.556:46.837:52.934:50.836:33.437:42.801:37.902:40.015:56.148:29.449:27.158:44.222:53.158:38.359:33.500:35.114:26.743:40.058:58.212:36.313:47.816:30.051:07.015:41.818:36.105:59.217:51.958:48.415:16.416:19.627:13.428:10.413:19.014:31.412:51.113:56.936:48.337:57.346:52.136:54.037:57.827:38.210:20.013:24.011:09.213:48.434:41.849:47.018:14.334:55.029:50.830:43.300:20.524:58.125:58.621:23:5324:49.610:19.622:06.655:16.656:27.218:14.141:00.014:33.215:44.903:53.917:28.418:26.442:31.515:01.416:24.248:10.811:59.215:08.316:13.007:19.817:40.318:36.730:40.213:53.442:10.343:13.358:12.047:09.648:16.820:02.224:49.826:05.240:58.919:15.509:52.811:02.213:14.339:18.859:15.000:05.602:36.903:51.804:58.806:02.634:55.305:21.706:43.611:34.114:05.850:55.800:51.016:27.417:38.729:07.130:19.837:09.020:10.748:18.514:40.410:53.725:39.309:29.110:31.124:32.250:19.414:43.714:02.910:48.522:56.345:12.745:04.024:03.324:59.330:42.232:35.229:06.330:21.637:05.447:59.156:15.516:15.717:38.753:11.231:05.446:13.847:21.653:57.321:07.838:07.939:06.150:13.023:44.625:03.306:39.233:06.434:32.905:47.106:52.507:55.427:01.748:24.738:09.428:53.720:12.821:15.450:10.551:13.659:09.751:05.003:25.824:02.425:07.207:20.530:12.412:04.127:49.831:42.333:01.034:06.923:42.927:14.002:10.205:29.230:32.546:36.747:28.813:01.250:33.931:58.933:02.634:55.736:06.937:15.221:49.023:06.722:43.128:50.640:53.243:57.759:53.510:47.612:01.752:56.454:08.536:09.717:41.511:14.224:06.214:05.115:42.218:26.719:30.421:04.418:04.335:28.134:18.345:42.247:15.504:20.026:11.224:54.325:56.315:52.830:04.552:05.804:41.307:08.152:49.611:23.613:08.114:10.810:30.717:28.221:19.305:08.847:49.956:48.304:28.105:22.837:23.638:19.738:04.048:25.349:36.417:03.327:41.928:50.218:18.851:43.941:17.247:27.916:33.625:34.254:24.257:25.650:25.057:11.504:58.627:46.622:19.120:51.843:46.045:00.648:17.902:28.446:13.230:31.614:41.729:53.426:02.021:28.122:46.923:52.224:35.125:24.003:29.914:04.643:51.558:41.400:38.201:41.549:27.600:39.002:36.305:10.443:59.647:36.545:17.346:16.657:24.012:05.113:37.655:51.651:35.450:13.451:11.052:36.351:19.616:11.504:06.105:12.320:40.621:38.935:49.520:49.522:18.547:19.817:54.554:00.511:27.812:31.421:36.328:43.429:59.031:31.328:59.530:03.550:06.559:02.100:00.239:10.057:40.659:17.659:55.901:40.219:19.420:31.512:16.130:26.747:06.248:06.749:54.551:00.252:18.855:37.139:50.337:48.853:15.537:20.110:23.012:01.413:50.606:47.029:07.830:36.444:39.949:36.050:44.102:29.046:00.647:00.419:24.228:26.429:42.434:52.333:01.732:29.534:01.621:53.327:00.828:14.615:43.216:11:4844:03.450:31.608:35.051:54.050:55.452:01.928:20.047:10.340:19.641:26.630:24.431:42.623:43.624:52.427:22.428:09.805:50.654:41.704:09.707:26.856:51.857:54.342:54.145:00.648:05.203:13.231:24.302:23.651:14.901:16.650:25.253:15.654:22.955:31.459:25.659:01.806:09.126:23.727:30.320:28.743:43.144:43.855:56.355:07.811:56.518:03.318:56.920:01.121:09.528:06.815:46.017:01.009:46.110:39.604:20.214:29.215:36.828:48.929:56.256:30.257:47.407:50.333:27.201:31.733:36.333:07.702:50.440:24.430:35.014:46.226:52.140:28.821:36.122:49.942:59.510:41.728:53.713:10.027:27.648:18.722:13.630:58.503:17.548:33.433:25.634:14.335:29.538:10.341:38.154:24.355:30.556:30.357:54.102:11.831:30.033:05.623:37.529:25.504:59.710:13.411:23.432:59.634:48.435:51.523:33.818:23.430:50.619:41.821:59.946:18.703:02.316:20.558:37.659:55.409:20.711:22.136:19.337:35.805:44.506:48.707:51.400:53.602:27.839:21.015:09.230:55.839:28.834:30.842:31.413:23.140:49.615:37.344:37.612:56.240:19.044:53.849:25.151:10.401:45.703:36.520:05.021:01.301:40.623:13.524:22.616:09.838:55.054:37.543:53.155:13.845:49.818:30.515:05.716:59.817:36.818:41.325:17.554:47.949:18.429:44.626:04.725:06.521:00.806:01.306:50.038:51.339:46.833:01.319:37.420:34.333:11.534:16.659:07.900:02.747:13.907:01.728:08.029:17.709:56.123:29.358:29.215:09.649:52.309:16.555:31.425:10.126:13.233:23.128:41.951:53.202:33.403:39.109:00.410:08.155:20.256:23.907:25.917:54.218:52.212:06.404:48.015:46.219:44.151:24.758:29.643:44.044:55.806:31.130:16.357:34.441:10.905:07.220:51.113:43.217:11.119:34.223:20.112:07.413:16.214:41.716:01.630:34.731:40.808:07.516:09.608:52.909:43.624:19.953:51.954:46.357:02.333:19.215:21.516:19.359:52.137:41.938:38.254:45.355:45.158:15.911:42.614:00.324:49.448:06.804:15.022:38.928:45.146:42.450:07.451:10.452:14.853:35.159:25.021:26:2654:11.855:16.631:00.125:20.104:14.122:46.422:46.623:37.349:07.343:43.824:00.726:07.323:35.241:28.101:54.235:02.909:19.508:35.323:04.453:46.737:19.238:41.012:25.620:26.611:21:2256:36.657:31.303:35.853:59.938:42.030:49.033:06.318:37.337:51.150:54.652:33.033:52.135:05.950:05.819:19.220:47.445:22.505:57.707:18.844:24.545:32.120:02.734:51.549:30.950:21.943:48.221:03.332:32.340:49.242:52.744:05.104:04.505:23.104:27.155:48.512:26.813:40.711:16.219:01.736:22.740:09.318:12.028:56.732:16.046:36.247:28.727:05.443:19.644:15.057:53.317:51.725:59.335:22.353:34.613:07.526:47.228:08.729:48.756:27.703:06.636:44.637:57.145:09.052:33.854:23.515:10.933:12.506:12.116:48.617:41.137:41.552:36.653:43.617:23.656:41.157:41.320:19.653:51.655:14.956:27.727:35.128:38.330:32.541:09.143:10.139:29.926:19.515:04.819:29.520:23.644:28.404:03.405:06.933:33.105:04.825:49.437:38.058:20.159:18.544:30.214:21.645:56.442:08.859:47.601:41.545:39.747:56.755:29.629:34.530:37.244:23.000:44.735:48.136:55.609:29.139:07.949:17.051:04.921:27.324:22.810:03.759:18.334:51.735:48.541:33.036:11.237:02.238:04.938:49.738:37.648:13.617:48.218:50.853:52.210:58.211:54.041:30.242:38.040:41.535:20.136:11.029:16.754:17.536:12.818:51.719:39.316:53.518:09.053:41.358:41.659:28.318:40.231:54.833:49.048:58.918:56.842:39.409:42.632:05.641:06.256:01.331:40.930:21.624:10.826:03.827:17.628:13.109:49.010:51.221:12.131:57.027:16.429:14.949:47.550:36.314:54.909:55.611:39.112:31.211:42:2042:40.944:14.945:12.346:04.059:13.140:27.413:32.438:44.551:41.417:10.842:03.522:26.309:23.547:59.416:12.126:58.307:07.427:27.343:16.121:48.122:56.633:38.734:35.014:52.010:58.711:55.539:12.312:59.424:54.728:52.848:02.813:42.314:47.644:11.618:09.518:52.319:49.214:37.426:27.727:36.424:22.341:42.753:02.711:47.316:09.617:23.221:36.737:44.538:49.045:13.246:23.653:27.854:31.355:39.904:04.608:18.810:04.135:06.948:35.229:30.313:30.514:32.815:35.408:32.502:08.222:26.929:54.633:39.934:32.934:15.211:24.730:08.632:22.050:17.457:33.944:04.020:46.323:13.924:49.724:39.850:17.651:33.158:47.109:43.911:17.952:32.053:29.122:15.428:12.441:11.703:12.504:11.812:48.213:33.717:02.220:17.237:52.338:56.456:53.414:51.716:17.348:34.711:12.317:13.811:21.633:36.648:03.555:34.553:31.303:50.605:16.103:46.941:42.019:35.631:17.028:56.206:30.600:27.725:12.338:50.439:59.604:28.905:31.730:15.054:24.455:31.426:28.827:30.025:33.934:46.854:41.950:39.951:52.230:06.023:25.424:29.300:12.009:31.248:57.052:03.053:03.654:41.657:47.759:02.300:19.722:44.537:52.340:12.653:32.218:56.820:00.020:57.155:08.520:01.020:59.335:04.936:05.137:15.513:51.714:59.215:40.818:17.019:12.405:56.143:28.013:32.951:13.653:51.655:21.656:37.749:50.750:51.759:10.711:36.112:50.629:49.206:59.712:13.813:24.524:10.413:46.307:36.213:43.512:02.432:46.821:54.423:05.943:41.845:22.602:43.003:53.329:34.630:27.047:22.328:46.852:09.253:12.513:14.914:18.915:19.401:34.257:25.658:19.827:36.108:22.231:07.032:23.037:20.438:09.701:25.209:10.410:21.213:16.856:53.841:03.054:15.851:19.438:18.950:53.929:19.430:16.942:40.949:38.749:37.436:19.337:20.653:18.732:22.933:36.823:19.316:05.718:03.354:45.456:05.310:18.711:32.537:47.338:48.754:57.909:00.937:37.642:31.510:03.811:08.234:56.838:33.839:33.744:15.254:23.055:31.229:37.231:00.754:23.800:45.903:53.312:47.913:59.714:59.531:57.419:36.020:19.529:48.934:19.715:38.818:21.617:18.730:29.001:30.659:33.600:33.645:42.434:56.946:15.439:55.503:29.639:23.131:36.632:43.001:14.902:13.837:47.238:45.010:09.436:13.616:28.717:30.729:42.930:38.933:58.235:30.218:46.119:50.120:48.432:54.212:09.813:08.606:26.307:36.451:59.955:12.907:20.828:14.729:35.933:34.634:10.135:24.225:03.519:10.120:35.646:26.247:35.107:04.808:14.854:04.154:54.537:02.437:58.403:37.004:17.311:04.408:51.927:47.648:30.447:21.909:45.913:30.515:15.033:32.623:57.024:54.846:44.447:49.411:39.331:28.737:23.738:48.343:02.943:54.115:50.405:14.206:32.407:35.051:21.135:32.551:15.252:53.454:51.555:59.336:37.237:31.834:41.318:51.843:35.037:06.555:52.434:48.648:01.421:55.745:15.146:17.647:24.929:45.633:44.041:04.746:56.635:00.320:31.125:05.328:33.133:52.507:43.708:58.237:45.940:53.818:13.319:14.358:15.006:45.531:14.825:47.357:20.126:16.734:31.138:36.516:36.817:29.618:16.119:13.048:45.050:05.351:03.352:23.053:42.335:43.450:58.454:15.455:21.602:27.331:02.808:47.558:54.700:04.901:09.205:18.432:54.645:44.532:18.253:14.154:17.659:19.000:42.101:42.241:07.547:08.448:30.802:26.803:47.155:31.912:48.414:23.417:35.018:52.608:39.041:54.508:26.523:11.524:14.303:22.157:18.842:44.619:17.122:01.523:55.328:53.913:42.131:07.218:55.419:40.720:23.747:35.912:05.212:57.814:04.821:06.321:46.829:03.431:00.544:00.945:39.030:22.031:27.153:58.655:04.635:14.842:22.244:36.400:46.901:42.735:44.912:13.308:38.109:33.622:56.705:43.606:47.155:28.809:03.910:17.311:43.446:03.747:02.050:00.151:04.351:56.331:33.635:45.617:45.035:16.509:12.910:00.510:45.316:48.933:36.449:36.550:41.705:28.109:58.317:56.731:45.332:38.848:55.014:42.115:20.140:48.511:50.905:14.022:31.427:08.830:10.348:04.549:04.604:00.904:59.442:52.413:41.219:52.150:43.140:40.541:33.551:08.724:32.021:25:3254:42.625:57.543:21.059:40.037:56.918:02.103:08.552:34.726:44.427:48.949:59.649:12.548:06.923:20.151:44.205:09.542:43.043:30.055:32.604:19.305:42.940:44.418:32.756:30.757:35.233:17.033:59.754:51.600:50.912:20.328:18.929:22.455:43.856:58.858:09.131:42.338:46.900:40.401:54.930:36.005:01.429:02.530:09.033:40.535:29.350:08.812:07.313:21.626:11.248:37.753:53.636:27.637:26.728:15.531:38.932:55.552:15.553:41.118:47.110:53.954:55.220:46.632:29.533:29.434:25.953:20.754:22.422:58.843:04.926:54.649:54.627:51.138:06.839:13.723:50.625:37.326:45.236:07.149:51.537:47.519:19.220:20.608:53.710:23.721:53.914:28.734:17.913:22.015:20.616:27.500:43.215:44.832:11.354:16.555:19.004:11.322:21.423:17.411:14.912:28.618:08.435:19.915:19.721:26.036:23.625:51.215:47.916:53.745:25.049:44.629:44.320:10.545:29.543:20.737:42.438:36.620:28.547:00.958:06.824:27.226:37.844:54.259:26.957:24.934:42.637:12.638:18.039:09.648:35.949:33.208:27.809:30.343:12.211:36.446:12.947:20.548:31.749:54.641:59.542:59.232:41.534:08.055:20.254:58.851:04.152:15.339:20.009:57.945:39.014:40.215:22.552:23.403:27.034:13.722:06.110:32.656:55.259:24.102:45.817:42.546:45.546:37.740:44.041:50.516:51.828:46.029:43.552:45.145:09.846:04.827:05.834:16.435:08.214:18.015:17.817:26.925:00.117:29.048:43.119:56.404:54.434:25.525:09.341:44.742:35.627:41.740:24.342:56.043:58.027:02.439:04.742:57.555:22.521:13.405:36.130:44.531:34.032:59.534:00.025:32.217:50.451:32.352:17.107:02.646:39.247:50.558:06.845:14.824:57.831:05.420:02.321:09.042:30.202:46.358:58.500:43.057:20.758:23.723:38.307:46.623:59.609:46.749:01.949:49.347:32.848:29.953:47.355:07.650:18.744:11.514:44.915:29.156:20.157:10.038:11.145:22.910:04.810:54.618:49.803:28.305:21.051:01.349:42.950:30.406:50.240:37.523:16.619:24.022:31.749:59.241:44.552:59.624:38.318:09.303:31.034:58.736:14.905:22.106:19.138:28.739:29.652:01.753:21.519:21.334:46.701:56.953:26.054:27.543:46.617:06.246:28.201:12.335:02.915:42.842:36.543:43.301:36.102:34.821:30.410:54.611:56.330:59.601:20.555:18.156:02.410:25.320:03.605:50.840:52.447:05.631:57.759:46.721:36.815:43.817:00.737:36.009:33.710:56.817:33.402:04.402:57.402:05.405:44.451:12.954:02.407:35.752:05.546:26.847:29.311:29.431:53.233:07.708:45.909:46.810:58.437:00.805:15.207:03.004:48.408:12.518:31.543:21.254:17.338:53.918:19.159:26.700:31.024:03.430:57.654:50.441:26.542:18.455:42.441:55.919:44.325:46.033:09.654:14.624:15.925:57.037:05.018:27.258:23.523:00.447:06.048:12.013:51.414:56.718:24.744:18.559:01.115:17.716:43.520:37.121:46.126:14.643:36.937:33.338:58.933:35.835:06.144:38.145:20.049:31.605:41.812:12.313:40.441:44.347:29.948:22.536:37.941:48.052:56.354:10.755:18.640:44.742:02.854:19.605:50.606:39.011:25.145:31.215:32.944:16.500:43.802:05.140:42.941:30.717:16.050:10.639:39.417:33.720:14.821:38.002:30.705:42.147:30.948:59.747:11.425:13.426:17.633:02.955:28.013:32.214:24.320:15:2027:09.708:18.802:08.003:00.608:44.250:14.750:55.221:51.622:50.437:33.229:50.915:47.816:52.442:04.543:27.513:27.752:58.154:19.146:21.852:47.912:53.414:03.638:08.139:06.848:26.852:25.819:09.516:18:4419:52.733:32.100:46.904:15.508:31.709:47.003:08.615:45.439:14.947:14.448:04.949:03.945:14.307:57.809:21.809:10.937:43.319:54.620:58.517:30.246:58.436:27.806:42.748:50.503:45.404:56.705:49.813:08.314:21.643:26.546:37.131:30.032:30.624:31.640:42.345:51.105:53.009:00.514:18.657:33.919:50.635:41.155:01.512:44.942:21.943:21.221:34.945:51.402:00.703:06.639:25.030:15.031:50.648:35.849:35.116:55.518:00.519:09.025:47.429:37.035:19.718:41.833:40.227:26.228:35.810:06.617:34.318:27.552:19.653:16.457:22.244:49.146:52.950:54.149:00.651:13.752:13.453:38.454:46.929:23.407:09.022:40.523:59.441:03.747:41.229:38.734:50.149:51.750:49.806:11.033:36.159:45.300:47.414:13.635:27.439:23.001:02.950:36.303:42.502:32.424:26.433:05.333:49.910:46.311:49.005:15.802:59.609:28.010:25.841:27.537:04.217:07.549:18.054:23.512:21.038:08.050:58.252:41.130:56.501:59.137:58.542:15.243:00.554:37.902:56.303:47.306:09.107:10.003:54.305:00.611:37.712:34.447:24.741:16.914:00.924:42.025:45.554:59.700:15.753:15.857:42.207:31.508:30.218:06.919:20.357:54.758:12.104:55.805:58.116:52.033:44.303:48.515:31.716:31.922:46.634:22.909:12.709:57.043:02.356:31.257:49.432:59.534:30.010:23.611:32.038:28.750:36.651:59.421:29.653:14.504:25.228:23.912:23.934:21.700:32.311:19.123:30.624:27.117:58.442:07.643:15.645:54.450:55.833:16.934:13.135:18.919:13.821:42.132:47.950:30.352:15.004:14.123:01.424:08.026:57.829:47.645:57.733:54.753:48.320:28.802:51.305:05.531:58.350:44.630:58.321:19.502:10.042:18.531:58.030:33.331:30.017:10.116:42.944:04.911:13.500:10.028:17.129:25.342:38.243:42.751:40.902:36.203:38.726:29.341:48.847:18.928:30.141:23.532:40.812:25.233:57.400:54.921:51.325:49.821:57.849:46.045:47.913:06.356:47.859:25.501:07.618:17.258:31.249:23.755:02.155:49.157:01.150:00.950:57.727:25.553:05.654:40.201:58.123:23.919:03.820:10.135:42.027:32.103:05.641:57.819:07.020:08.610:30.029:58.930:49.800:15.901:29.223:44.209:24.810:25.758:05.452:18.403:31.146:53.819:08.108:52.613:18.123:07.024:01.448:18.252:32.649:05.522:35.123:36.614:22.154:57.330:28.301:21.503:02.104:03.412:11.225:43.910:52.338:56.800:56.310:40.648:18.049:42.608:11.809:15.714:52.039:29.912:42.855:29.121:17.222:49.458:20.328:22.257:13.319:23.920:41.132:02.833:03.633:49.635:29.458:07.047:27.902:36.908:17.248:13.549:45.849:47.358:48.816:14.142:56.155:44.535:45.836:29.926:36.755:18.856:56.303:21.022:17.942:03.435:54.405:31.700:23.714:50.421:20.522:40.346:07.210:43.408:38.155:28.610:36.311:36.912:35.036:02.343:56.845:02.435:03.336:00.117:11.432:47.502:40.318:49.819:42.157:30.351:02.953:06.412:37.904:34.550:20.757:38.909:55.212:53.412:04.647:27.948:21.654:32.900:23.550:37.918:44.252:03.110:01.313:17.423:40.311:01.846:16.404:26.605:16.330:04.531:46.747:43.725:54.217:19.302:44.344:12.052:31.453:39.312:45.013:38.729:53.931:28.736:45.652:28.736:50.039:41.545:28.526:53.029:28.211:30.812:42.142:14.143:13.307:18.910:17.530:52.831:48.507:25.408:38.958:05.329:40.130:38.741:10.642:45.822:32.434:59.535:44.343:10.203:22.710:30.858:09.413:28.618:20.419:14.421:26.058:26.559:27.840:00.359:33.212:55.214:10.216:11.218:04.111:39.323:30.745:57.853:00.807:16.558:50.729:02.832:45.133:58.930:02.011:15.130:28.722:51.607:07.656:34.702:31.827:23.736:58.748:10.049:11.830:29.110:20.749:20.816:36.551:18.855:53.459:39.244:30.549:41.313:53.920:17.621:25.610:58.713:24.812:54.815:38.116:43.947:03.019:34.020:56.822:05.101:28.545:32.448:18.749:50.315:58.856:04.308:20.317:19.602:56.650:46.611:27.312:28.325:36.351:18.337:42.553:42.821:45.649:14.418:19.319:26.541:55.902:35.612:04.210:23.714:14.635:21.936:47.937:55.755:26.006:12.451:14.141:14.332:57.738:09.441:40.912:16.316:19.235:11.015:57.415:59.716:59.240:12.538:19.826:20.827:48.447:56.127:38.420:54.022:02.739:10.622:19.012:38.233:40.135:14.236:29.029:48.057:25.240:24.004:49.906:00.745:14.108:11.426:24.927:29.013:45.405:04.318:19.319:28.335:16.532:32.754:13.456:15.315:21.124:45.932:06.549:59.410:26.011:23.129:15.714:30.742:17.043:37.628:38.841:49.316:26.431:55.632:57.921:04.238:24.639:35.135:23.036:34.007:42.432:43.505:02.445:08.827:54.129:00.930:12.755:19.302:40.303:45.526:36.833:17.156:26.922:01.219:07.620:44.740:00.911:50.913:45.238:47.225:36.819:08.320:34.718:05.512:33.926:29.242:15.702:00.741:42.318:48.424:06.741:49.740:51.441:44.717:14.820:11.026:46.827:47.731:01.254:25.702:58.348:34.035:58.837:02.050:23.607:22.814:46.615:29.235:18.936:16.649:59.057:14.453:15.554:24.137:01.856:21.957:37.854:32.256:04.722:57.345:07.946:57.203:24.804:56.604:03.609:09.015:38.622:18.449:58.725:02.132:53.751:03.306:36.547:02.250:20.601:44.641:27.201:26.909:55.111:07.212:05.213:21.514:18.415:40.944:17.709:00.544:14.104:56.811:31.335:58.307:39.015:14.017:36.519:48.513:41.805:21.909:36.710:27.627:27.342:10.510:43.749:35.850:41.651:45.458:36.410:46.920:46.243:42.844:29.357:52.750:58.834:20.435:33.036:34.239:01.741:10.018:34.419:49.120:51.525:29.345:42.106:46.303:20.616:48.659:21.555:31.659:22.414:49.809:45.654:25.053:12.755:06.506:59.307:47.123:13.544:50.007:04.749:23.209:38.651:22.458:51.804:10.922:13.123:14.124:35.242:36.743:36.144:30.845:23.110:59.430:56.901:42.956:17.102:41.439:33.946:12.826:47.607:04.208:09.249:24.131:09.251:28.005:05.013:09.214:02.315:57.916:52.220:18.801:46.616:32.124:56.411:43.008:50.211:06.026:54.740:13.301:52.007:41.411:46.515:44.601:54.914:01.246:02.647:44.120:55.012:02.427:14.614:01.514:53.538:26.019:15.520:12.221:08.056:49.909:08.449:41.035:34.936:42.244:12.650:40.454:37.804:11.005:03.816:57.235:37.654:35.819:45.943:13.543:29.108:09.341:39.741:24.842:16.643:34.512:58.426:08.505:32.042:51.505:40.723:13.417:04.338:47.945:57.117:21.036:05.129:32.759:27.030:39.231:33.716:11.617:20.201:35.515:08.606:30.438:55.707:09.345:59.846:45.158:12.200:16.736:40.938:47.553:56.554:57.203:16.104:29.509:07.625:24.918:30.022:51.941:53.844:26.602:19.932:05.701:51.211:53.940:07.740:59.446:43.250:00.651:04.004:47.932:29.115:37.016:41.112:27.413:33.044:32.850:04.553:13.800:55.128:06.656:59.220:12.144:48.053:58.655:02.248:58.323:01.905:41.733:19.619:06.422:42.031:14.123:52.613:51.815:00.918:17.553:08.754:14.507:35.330:06.238:23.515:26.604:27.225:45.127:05.305:28.008:19.309:17.310:22.911:35.736:27.306:56.258:12.601:59.608:53.009:54.147:32.824:32.009:51.019:01.340:51.645:06.146:04.006:54.450:42.804:00.334:49.157:52.035:38.801:33.111:50.012:42.826:23.005:28.456:24.617:53.316:40.417:38.720:24.924:23.502:19.820:33.137:59.838:49.319:45.605:49.559:06.600:36.907:28.057:34.601:51.307:25.607:03.659:08.441:29.649:20.951:12.618:11.010:07.504:49.207:42.856:18.057:02.906:42.917:54.818:31.345:54.246:48.352:48.010:06.146:58.748:58.550:13.408:18.809:09.659:24.152:18.728:30.541:12.859:41.903:03.333:11.552:26.454:06.250:21.602:03.427:44.914:53.645:10.702:48.509:12.510:21.747:47.758:41.300:01.340:01.800:06.310:24.028:52.159:38.500:44.937:38.907:01.721:57.204:34.424:10.824:54.426:14.814:51.300:39.349:21.150:14.302:44.903:33.804:26.920:41.514:18.549:37.450:35.819:09.132:40.457:37.211:27.112:25.516:57.113:26.931:23.601:58.614:48.017:24.520:02.820:48.828:45.320:46.855:13.655:59.622:44.611:24.113:50.419:00.321:00.652:29.208:16.948:15.929:48.423:16.543:19.347:50.728:28.112:56.023:10.053:13.117:29.038:40.940:01.840:52.014:15.602:07.252:45.655:00.018:36.909:57.802:38.144:28.145:22.047:52.352:02.219:18.722:27.430:06.721:00.931:04.332:16.633:49.153:49.531:45.724:04.527:58.443:23.802:31.508:20.242:13.008:33.558:15.317:36.436:19.522:17.523:15.724:45.224:01.946:52.048:39.321:24.624:46.758:08.111:01.247:58.814:50.516:35.218:27.140:29.342:22.652:11.628:42.831:22.432:18.432:58.857:32.758:27.303:05.046:52.619:21.931:55.451:45.309:31.910:22.258:37.204:02.005:07.046:41.147:24.551:34.825:59.248:58.443:21.910:09.509:00.639:51.638:24.301:14.302:04.310:50.540:34.808:31.610:54.238:51.241:22.412:56.307:50.621:35.825:11.409:57.016:23.631:40.913:27.002:56.833:39.335:52.948:04.956:47.457:35.005:43.617:38.051:33.106:47.349:11.227:11.722:10.705:42.345:10.946:03.802:40.809:57.926:34.927:32.541:45.850:59.503:46.243:48.455:31.653:30.209:04.352:53.010:29.312:23.623:44.541:52.954:13.619:45.620:32.441:19.845:05.340:06.142:03.925:53.251:56.318:30.112:41.439:07.152:39.353:40.434:43.535:40.506:27.619:28.950:54.118:57.136:14.832:09.541:57.918:00.618:54.224:25.425:32.515:54.248:30.249:22.326:42.946:25.612:27.727:04.426:57.833:20.416:54.729:31.130:16.149:40.846:50.256:52.107:14.408:56.311:39.447:34.350:15.455:55.956:48.906:11.155:38.401:49.356:23.627:37.235:04.036:00.710:34.217:17.824:40.538:56.642:13.701:36.423:17.504:47.320:09.522:04.638:19.639:14.618:02.313:37.453:50.055:31.647:43.655:06.013:40.259:26.800:29.926:07.928:37.220:51.348:22.849:27.835:17.336:21.854:21.055:40.827:04.031:00.231:55.132:40.205:24.122:14.727:15.328:38.320:22.040:43.653:22.303:22.555:42.010:23.412:08.430:36.551:27.132:17.336:23.250:09.400:47.122:42.654:40.609:50.118:02.702:59.032:39.559:01.021:24.522:19.748:03.511:17.347:15.948:58.546:44.623:11.033:49.649:51.451:17.747:20.048:55.743:35.103:53.411:07.409:07.611:45.123:20.642:30.643:17.500:35.001:37.720:40.003:07.104:08.606:34.903:18.318:39.255:39.858:27.212:53.214:23.419:33.929:56.340:33.842:16.051:35.252:29.700:00.009:55.027:39.729:50.430:44.031:26.013:16.352:04.806:44.345:44.255:17.448:24.404:43.920:37.921:41.925:04.726:46.759:47.505:22.421:51.845:45.023:51.455:58.736:41.657:48.550:15.606:12.009:08.116:43.728:36.529:20.935:19.050:09.351:07.502:48.323:57.011:44.109:03.024:42.528:19.629:32.301:28.821:16.922:49.952:12.759:24.305:13.130:09.414:06.041:20.618:27.525:59.706:21.623:17.957:58.226:59.853:35.916:52.707:11.334:54.943:37.444:16.947:28.711:38.6\n"
          ]
        }
      ]
    },
    {
      "cell_type": "code",
      "source": [
        "df=pd.read_csv(\"Coffe_sales.csv\")\n",
        "print(df[\"money\"].mean())"
      ],
      "metadata": {
        "colab": {
          "base_uri": "https://localhost:8080/"
        },
        "id": "ubQ3KsQXqJf5",
        "outputId": "2e4dd943-b6a2-44c3-e04f-5fd4914f7b89"
      },
      "execution_count": 8,
      "outputs": [
        {
          "output_type": "stream",
          "name": "stdout",
          "text": [
            "31.64521567521849\n"
          ]
        }
      ]
    },
    {
      "cell_type": "markdown",
      "source": [
        "Rearranging columns in DataFrame:"
      ],
      "metadata": {
        "id": "QzF5CZYYtbOd"
      }
    },
    {
      "cell_type": "code",
      "source": [
        "import pandas as pd\n",
        "df=pd.read_csv(\"Coffe_sales.csv\")\n",
        "df = df[[\"hour_of_day\", \"money\", \"Time_of_Day\", \"coffee_name\"]]\n",
        "print(df)"
      ],
      "metadata": {
        "colab": {
          "base_uri": "https://localhost:8080/"
        },
        "id": "feq5pJchqN9i",
        "outputId": "1cda82a5-40e7-47c8-bcc8-5726402db6a1"
      },
      "execution_count": 10,
      "outputs": [
        {
          "output_type": "stream",
          "name": "stdout",
          "text": [
            "      hour_of_day  money Time_of_Day    coffee_name\n",
            "0              10  38.70     Morning          Latte\n",
            "1              12  38.70   Afternoon  Hot Chocolate\n",
            "2              12  38.70   Afternoon  Hot Chocolate\n",
            "3              13  28.90   Afternoon      Americano\n",
            "4              13  38.70   Afternoon          Latte\n",
            "...           ...    ...         ...            ...\n",
            "3542           10  35.76     Morning     Cappuccino\n",
            "3543           14  35.76   Afternoon          Cocoa\n",
            "3544           14  35.76   Afternoon          Cocoa\n",
            "3545           15  25.96   Afternoon      Americano\n",
            "3546           18  35.76       Night          Latte\n",
            "\n",
            "[3547 rows x 4 columns]\n"
          ]
        }
      ]
    }
  ]
}