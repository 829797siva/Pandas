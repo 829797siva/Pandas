{
  "nbformat": 4,
  "nbformat_minor": 0,
  "metadata": {
    "colab": {
      "provenance": [],
      "authorship_tag": "ABX9TyMdJ9kIJLwUGTSNHhRdMVwq",
      "include_colab_link": true
    },
    "kernelspec": {
      "name": "python3",
      "display_name": "Python 3"
    },
    "language_info": {
      "name": "python"
    }
  },
  "cells": [
    {
      "cell_type": "markdown",
      "metadata": {
        "id": "view-in-github",
        "colab_type": "text"
      },
      "source": [
        "<a href=\"https://colab.research.google.com/github/829797siva/Pandas/blob/main/Dataframe_Methods.ipynb\" target=\"_parent\"><img src=\"https://colab.research.google.com/assets/colab-badge.svg\" alt=\"Open In Colab\"/></a>"
      ]
    },
    {
      "cell_type": "code",
      "execution_count": 3,
      "metadata": {
        "id": "PL5MKcgluAnr",
        "colab": {
          "base_uri": "https://localhost:8080/",
          "height": 73
        },
        "outputId": "3a7c47f0-0bc6-4138-8f8e-84921ea91e86"
      },
      "outputs": [
        {
          "output_type": "display_data",
          "data": {
            "text/plain": [
              "<IPython.core.display.HTML object>"
            ],
            "text/html": [
              "\n",
              "     <input type=\"file\" id=\"files-47b9911d-fc9c-4f78-9fd7-d038e4d65b3b\" name=\"files[]\" multiple disabled\n",
              "        style=\"border:none\" />\n",
              "     <output id=\"result-47b9911d-fc9c-4f78-9fd7-d038e4d65b3b\">\n",
              "      Upload widget is only available when the cell has been executed in the\n",
              "      current browser session. Please rerun this cell to enable.\n",
              "      </output>\n",
              "      <script>// Copyright 2017 Google LLC\n",
              "//\n",
              "// Licensed under the Apache License, Version 2.0 (the \"License\");\n",
              "// you may not use this file except in compliance with the License.\n",
              "// You may obtain a copy of the License at\n",
              "//\n",
              "//      http://www.apache.org/licenses/LICENSE-2.0\n",
              "//\n",
              "// Unless required by applicable law or agreed to in writing, software\n",
              "// distributed under the License is distributed on an \"AS IS\" BASIS,\n",
              "// WITHOUT WARRANTIES OR CONDITIONS OF ANY KIND, either express or implied.\n",
              "// See the License for the specific language governing permissions and\n",
              "// limitations under the License.\n",
              "\n",
              "/**\n",
              " * @fileoverview Helpers for google.colab Python module.\n",
              " */\n",
              "(function(scope) {\n",
              "function span(text, styleAttributes = {}) {\n",
              "  const element = document.createElement('span');\n",
              "  element.textContent = text;\n",
              "  for (const key of Object.keys(styleAttributes)) {\n",
              "    element.style[key] = styleAttributes[key];\n",
              "  }\n",
              "  return element;\n",
              "}\n",
              "\n",
              "// Max number of bytes which will be uploaded at a time.\n",
              "const MAX_PAYLOAD_SIZE = 100 * 1024;\n",
              "\n",
              "function _uploadFiles(inputId, outputId) {\n",
              "  const steps = uploadFilesStep(inputId, outputId);\n",
              "  const outputElement = document.getElementById(outputId);\n",
              "  // Cache steps on the outputElement to make it available for the next call\n",
              "  // to uploadFilesContinue from Python.\n",
              "  outputElement.steps = steps;\n",
              "\n",
              "  return _uploadFilesContinue(outputId);\n",
              "}\n",
              "\n",
              "// This is roughly an async generator (not supported in the browser yet),\n",
              "// where there are multiple asynchronous steps and the Python side is going\n",
              "// to poll for completion of each step.\n",
              "// This uses a Promise to block the python side on completion of each step,\n",
              "// then passes the result of the previous step as the input to the next step.\n",
              "function _uploadFilesContinue(outputId) {\n",
              "  const outputElement = document.getElementById(outputId);\n",
              "  const steps = outputElement.steps;\n",
              "\n",
              "  const next = steps.next(outputElement.lastPromiseValue);\n",
              "  return Promise.resolve(next.value.promise).then((value) => {\n",
              "    // Cache the last promise value to make it available to the next\n",
              "    // step of the generator.\n",
              "    outputElement.lastPromiseValue = value;\n",
              "    return next.value.response;\n",
              "  });\n",
              "}\n",
              "\n",
              "/**\n",
              " * Generator function which is called between each async step of the upload\n",
              " * process.\n",
              " * @param {string} inputId Element ID of the input file picker element.\n",
              " * @param {string} outputId Element ID of the output display.\n",
              " * @return {!Iterable<!Object>} Iterable of next steps.\n",
              " */\n",
              "function* uploadFilesStep(inputId, outputId) {\n",
              "  const inputElement = document.getElementById(inputId);\n",
              "  inputElement.disabled = false;\n",
              "\n",
              "  const outputElement = document.getElementById(outputId);\n",
              "  outputElement.innerHTML = '';\n",
              "\n",
              "  const pickedPromise = new Promise((resolve) => {\n",
              "    inputElement.addEventListener('change', (e) => {\n",
              "      resolve(e.target.files);\n",
              "    });\n",
              "  });\n",
              "\n",
              "  const cancel = document.createElement('button');\n",
              "  inputElement.parentElement.appendChild(cancel);\n",
              "  cancel.textContent = 'Cancel upload';\n",
              "  const cancelPromise = new Promise((resolve) => {\n",
              "    cancel.onclick = () => {\n",
              "      resolve(null);\n",
              "    };\n",
              "  });\n",
              "\n",
              "  // Wait for the user to pick the files.\n",
              "  const files = yield {\n",
              "    promise: Promise.race([pickedPromise, cancelPromise]),\n",
              "    response: {\n",
              "      action: 'starting',\n",
              "    }\n",
              "  };\n",
              "\n",
              "  cancel.remove();\n",
              "\n",
              "  // Disable the input element since further picks are not allowed.\n",
              "  inputElement.disabled = true;\n",
              "\n",
              "  if (!files) {\n",
              "    return {\n",
              "      response: {\n",
              "        action: 'complete',\n",
              "      }\n",
              "    };\n",
              "  }\n",
              "\n",
              "  for (const file of files) {\n",
              "    const li = document.createElement('li');\n",
              "    li.append(span(file.name, {fontWeight: 'bold'}));\n",
              "    li.append(span(\n",
              "        `(${file.type || 'n/a'}) - ${file.size} bytes, ` +\n",
              "        `last modified: ${\n",
              "            file.lastModifiedDate ? file.lastModifiedDate.toLocaleDateString() :\n",
              "                                    'n/a'} - `));\n",
              "    const percent = span('0% done');\n",
              "    li.appendChild(percent);\n",
              "\n",
              "    outputElement.appendChild(li);\n",
              "\n",
              "    const fileDataPromise = new Promise((resolve) => {\n",
              "      const reader = new FileReader();\n",
              "      reader.onload = (e) => {\n",
              "        resolve(e.target.result);\n",
              "      };\n",
              "      reader.readAsArrayBuffer(file);\n",
              "    });\n",
              "    // Wait for the data to be ready.\n",
              "    let fileData = yield {\n",
              "      promise: fileDataPromise,\n",
              "      response: {\n",
              "        action: 'continue',\n",
              "      }\n",
              "    };\n",
              "\n",
              "    // Use a chunked sending to avoid message size limits. See b/62115660.\n",
              "    let position = 0;\n",
              "    do {\n",
              "      const length = Math.min(fileData.byteLength - position, MAX_PAYLOAD_SIZE);\n",
              "      const chunk = new Uint8Array(fileData, position, length);\n",
              "      position += length;\n",
              "\n",
              "      const base64 = btoa(String.fromCharCode.apply(null, chunk));\n",
              "      yield {\n",
              "        response: {\n",
              "          action: 'append',\n",
              "          file: file.name,\n",
              "          data: base64,\n",
              "        },\n",
              "      };\n",
              "\n",
              "      let percentDone = fileData.byteLength === 0 ?\n",
              "          100 :\n",
              "          Math.round((position / fileData.byteLength) * 100);\n",
              "      percent.textContent = `${percentDone}% done`;\n",
              "\n",
              "    } while (position < fileData.byteLength);\n",
              "  }\n",
              "\n",
              "  // All done.\n",
              "  yield {\n",
              "    response: {\n",
              "      action: 'complete',\n",
              "    }\n",
              "  };\n",
              "}\n",
              "\n",
              "scope.google = scope.google || {};\n",
              "scope.google.colab = scope.google.colab || {};\n",
              "scope.google.colab._files = {\n",
              "  _uploadFiles,\n",
              "  _uploadFilesContinue,\n",
              "};\n",
              "})(self);\n",
              "</script> "
            ]
          },
          "metadata": {}
        },
        {
          "output_type": "stream",
          "name": "stdout",
          "text": [
            "Saving Coffe_sales.csv to Coffe_sales.csv\n"
          ]
        }
      ],
      "source": [
        "from google.colab import files\n",
        "uploaded = files.upload()"
      ]
    },
    {
      "cell_type": "code",
      "source": [
        "import pandas as pd\n",
        "df=pd.read_csv(\"Coffe_sales.csv\")\n",
        "print(df.head())"
      ],
      "metadata": {
        "colab": {
          "base_uri": "https://localhost:8080/"
        },
        "id": "kzC8nAIaPbvq",
        "outputId": "0be271ca-d199-41c4-db26-7d2a9582229c"
      },
      "execution_count": 4,
      "outputs": [
        {
          "output_type": "stream",
          "name": "stdout",
          "text": [
            "   hour_of_day cash_type  money    coffee_name Time_of_Day Weekday Month_name  \\\n",
            "0           10      card   38.7          Latte     Morning     Fri        Mar   \n",
            "1           12      card   38.7  Hot Chocolate   Afternoon     Fri        Mar   \n",
            "2           12      card   38.7  Hot Chocolate   Afternoon     Fri        Mar   \n",
            "3           13      card   28.9      Americano   Afternoon     Fri        Mar   \n",
            "4           13      card   38.7          Latte   Afternoon     Fri        Mar   \n",
            "\n",
            "   Weekdaysort  Monthsort        Date     Time  \n",
            "0            5          3  01-03-2024  15:50.5  \n",
            "1            5          3  01-03-2024  19:22.5  \n",
            "2            5          3  01-03-2024  20:18.1  \n",
            "3            5          3  01-03-2024  46:33.0  \n",
            "4            5          3  01-03-2024  48:14.6  \n"
          ]
        }
      ]
    },
    {
      "cell_type": "code",
      "source": [
        "import pandas as pd\n",
        "df=pd.read_csv(\"Coffe_sales.csv\")\n",
        "print(df.head(10))"
      ],
      "metadata": {
        "colab": {
          "base_uri": "https://localhost:8080/"
        },
        "id": "nuVhFVpOQWqV",
        "outputId": "0621c82a-46e6-418e-b5f7-388a356e4ade"
      },
      "execution_count": 5,
      "outputs": [
        {
          "output_type": "stream",
          "name": "stdout",
          "text": [
            "   hour_of_day cash_type  money          coffee_name Time_of_Day Weekday  \\\n",
            "0           10      card   38.7                Latte     Morning     Fri   \n",
            "1           12      card   38.7        Hot Chocolate   Afternoon     Fri   \n",
            "2           12      card   38.7        Hot Chocolate   Afternoon     Fri   \n",
            "3           13      card   28.9            Americano   Afternoon     Fri   \n",
            "4           13      card   38.7                Latte   Afternoon     Fri   \n",
            "5           15      card   33.8  Americano with Milk   Afternoon     Fri   \n",
            "6           16      card   38.7        Hot Chocolate   Afternoon     Fri   \n",
            "7           18      card   33.8  Americano with Milk       Night     Fri   \n",
            "8           19      card   38.7                Cocoa       Night     Fri   \n",
            "9           19      card   33.8  Americano with Milk       Night     Fri   \n",
            "\n",
            "  Month_name  Weekdaysort  Monthsort        Date     Time  \n",
            "0        Mar            5          3  01-03-2024  15:50.5  \n",
            "1        Mar            5          3  01-03-2024  19:22.5  \n",
            "2        Mar            5          3  01-03-2024  20:18.1  \n",
            "3        Mar            5          3  01-03-2024  46:33.0  \n",
            "4        Mar            5          3  01-03-2024  48:14.6  \n",
            "5        Mar            5          3  01-03-2024  39:47.7  \n",
            "6        Mar            5          3  01-03-2024  19:02.8  \n",
            "7        Mar            5          3  01-03-2024  39:03.6  \n",
            "8        Mar            5          3  01-03-2024  22:01.8  \n",
            "9        Mar            5          3  01-03-2024  23:15.9  \n"
          ]
        }
      ]
    },
    {
      "cell_type": "code",
      "source": [
        "import pandas as pd\n",
        "df=pd.read_csv(\"Coffe_sales.csv\")\n",
        "print(df.tail())"
      ],
      "metadata": {
        "colab": {
          "base_uri": "https://localhost:8080/"
        },
        "id": "0bePzf8_Qg1k",
        "outputId": "ad4b11bf-c6c5-4736-f3d4-f6418aa3e7ab"
      },
      "execution_count": 6,
      "outputs": [
        {
          "output_type": "stream",
          "name": "stdout",
          "text": [
            "      hour_of_day cash_type  money coffee_name Time_of_Day Weekday Month_name  \\\n",
            "3542           10      card  35.76  Cappuccino     Morning     Sun        Mar   \n",
            "3543           14      card  35.76       Cocoa   Afternoon     Sun        Mar   \n",
            "3544           14      card  35.76       Cocoa   Afternoon     Sun        Mar   \n",
            "3545           15      card  25.96   Americano   Afternoon     Sun        Mar   \n",
            "3546           18      card  35.76       Latte       Night     Sun        Mar   \n",
            "\n",
            "      Weekdaysort  Monthsort        Date     Time  \n",
            "3542            7          3  23-03-2025  34:54.9  \n",
            "3543            7          3  23-03-2025  43:37.4  \n",
            "3544            7          3  23-03-2025  44:16.9  \n",
            "3545            7          3  23-03-2025  47:28.7  \n",
            "3546            7          3  23-03-2025  11:38.6  \n"
          ]
        }
      ]
    },
    {
      "cell_type": "code",
      "source": [
        "import pandas as pd\n",
        "df=pd.read_csv(\"Coffe_sales.csv\")\n",
        "print(df.tail(10))"
      ],
      "metadata": {
        "colab": {
          "base_uri": "https://localhost:8080/"
        },
        "id": "1wyHZ8V4Rmnj",
        "outputId": "715603a6-8b38-43a1-9f80-f61fea2ad58e"
      },
      "execution_count": 11,
      "outputs": [
        {
          "output_type": "stream",
          "name": "stdout",
          "text": [
            "      hour_of_day cash_type  money          coffee_name Time_of_Day Weekday  \\\n",
            "3537           15      card  21.06             Espresso   Afternoon     Sat   \n",
            "3538           16      card  35.76                Latte   Afternoon     Sat   \n",
            "3539           17      card  30.86  Americano with Milk       Night     Sat   \n",
            "3540           19      card  30.86  Americano with Milk       Night     Sat   \n",
            "3541           10      card  35.76                Latte     Morning     Sun   \n",
            "3542           10      card  35.76           Cappuccino     Morning     Sun   \n",
            "3543           14      card  35.76                Cocoa   Afternoon     Sun   \n",
            "3544           14      card  35.76                Cocoa   Afternoon     Sun   \n",
            "3545           15      card  25.96            Americano   Afternoon     Sun   \n",
            "3546           18      card  35.76                Latte       Night     Sun   \n",
            "\n",
            "     Month_name  Weekdaysort  Monthsort        Date     Time  \n",
            "3537        Mar            6          3  22-03-2025  57:58.2  \n",
            "3538        Mar            6          3  22-03-2025  26:59.8  \n",
            "3539        Mar            6          3  22-03-2025  53:35.9  \n",
            "3540        Mar            6          3  22-03-2025  16:52.7  \n",
            "3541        Mar            7          3  23-03-2025  07:11.3  \n",
            "3542        Mar            7          3  23-03-2025  34:54.9  \n",
            "3543        Mar            7          3  23-03-2025  43:37.4  \n",
            "3544        Mar            7          3  23-03-2025  44:16.9  \n",
            "3545        Mar            7          3  23-03-2025  47:28.7  \n",
            "3546        Mar            7          3  23-03-2025  11:38.6  \n"
          ]
        }
      ]
    },
    {
      "cell_type": "code",
      "source": [
        "import pandas as pd\n",
        "df=pd.read_csv(\"Coffe_sales.csv\")\n",
        "print(df.describe())"
      ],
      "metadata": {
        "colab": {
          "base_uri": "https://localhost:8080/"
        },
        "id": "q3iw-nb7QtHH",
        "outputId": "218bf579-05ca-4f31-8eb3-56b500ae2db1"
      },
      "execution_count": 7,
      "outputs": [
        {
          "output_type": "stream",
          "name": "stdout",
          "text": [
            "       hour_of_day        money  Weekdaysort    Monthsort\n",
            "count  3547.000000  3547.000000  3547.000000  3547.000000\n",
            "mean     14.185791    31.645216     3.845785     6.453905\n",
            "std       4.234010     4.877754     1.971501     3.500754\n",
            "min       6.000000    18.120000     1.000000     1.000000\n",
            "25%      10.000000    27.920000     2.000000     3.000000\n",
            "50%      14.000000    32.820000     4.000000     7.000000\n",
            "75%      18.000000    35.760000     6.000000    10.000000\n",
            "max      22.000000    38.700000     7.000000    12.000000\n"
          ]
        }
      ]
    },
    {
      "cell_type": "code",
      "source": [
        "import pandas as pd\n",
        "df=pd.read_csv(\"Coffe_sales.csv\")\n",
        "print(df.info())"
      ],
      "metadata": {
        "colab": {
          "base_uri": "https://localhost:8080/"
        },
        "id": "NasO-FafQ3WF",
        "outputId": "a1de15da-a843-4ab3-d9c1-c58d9c0139af"
      },
      "execution_count": 9,
      "outputs": [
        {
          "output_type": "stream",
          "name": "stdout",
          "text": [
            "<class 'pandas.core.frame.DataFrame'>\n",
            "RangeIndex: 3547 entries, 0 to 3546\n",
            "Data columns (total 11 columns):\n",
            " #   Column       Non-Null Count  Dtype  \n",
            "---  ------       --------------  -----  \n",
            " 0   hour_of_day  3547 non-null   int64  \n",
            " 1   cash_type    3547 non-null   object \n",
            " 2   money        3547 non-null   float64\n",
            " 3   coffee_name  3547 non-null   object \n",
            " 4   Time_of_Day  3547 non-null   object \n",
            " 5   Weekday      3547 non-null   object \n",
            " 6   Month_name   3547 non-null   object \n",
            " 7   Weekdaysort  3547 non-null   int64  \n",
            " 8   Monthsort    3547 non-null   int64  \n",
            " 9   Date         3547 non-null   object \n",
            " 10  Time         3547 non-null   object \n",
            "dtypes: float64(1), int64(3), object(7)\n",
            "memory usage: 304.9+ KB\n",
            "None\n"
          ]
        }
      ]
    },
    {
      "cell_type": "code",
      "source": [
        "import pandas as pd\n",
        "df=pd.read_csv(\"Coffe_sales.csv\")\n",
        "print(df.count())"
      ],
      "metadata": {
        "colab": {
          "base_uri": "https://localhost:8080/"
        },
        "id": "f6iZjqdYRA8f",
        "outputId": "05fba592-adc2-4f0b-ef7a-8a647641aab3"
      },
      "execution_count": 13,
      "outputs": [
        {
          "output_type": "stream",
          "name": "stdout",
          "text": [
            "hour_of_day    3547\n",
            "cash_type      3547\n",
            "money          3547\n",
            "coffee_name    3547\n",
            "Time_of_Day    3547\n",
            "Weekday        3547\n",
            "Month_name     3547\n",
            "Weekdaysort    3547\n",
            "Monthsort      3547\n",
            "Date           3547\n",
            "Time           3547\n",
            "dtype: int64\n"
          ]
        }
      ]
    },
    {
      "cell_type": "code",
      "source": [],
      "metadata": {
        "id": "Rs43pIIxSuD1"
      },
      "execution_count": null,
      "outputs": []
    }
  ]
}