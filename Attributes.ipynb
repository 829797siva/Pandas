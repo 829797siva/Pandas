{
  "nbformat": 4,
  "nbformat_minor": 0,
  "metadata": {
    "colab": {
      "provenance": [],
      "authorship_tag": "ABX9TyN387Z9z5rZqOrG4fMQRuR+",
      "include_colab_link": true
    },
    "kernelspec": {
      "name": "python3",
      "display_name": "Python 3"
    },
    "language_info": {
      "name": "python"
    }
  },
  "cells": [
    {
      "cell_type": "markdown",
      "metadata": {
        "id": "view-in-github",
        "colab_type": "text"
      },
      "source": [
        "<a href=\"https://colab.research.google.com/github/829797siva/Pandas/blob/main/Attributes.ipynb\" target=\"_parent\"><img src=\"https://colab.research.google.com/assets/colab-badge.svg\" alt=\"Open In Colab\"/></a>"
      ]
    },
    {
      "cell_type": "markdown",
      "source": [
        "**Series Attributes :**\n",
        "\n",
        "✓  Series is a predefined class.\n",
        "\n",
        "✓ Series having different attributes.\n",
        "\n",
        "✓ These attributes return information about the object.\n",
        "\n",
        "\n",
        "*   dtypes\n",
        "*   size\n",
        "*   index\n",
        "*   values\n"
      ],
      "metadata": {
        "id": "Eg52twEw11mu"
      }
    },
    {
      "cell_type": "markdown",
      "source": [
        "1)**dtypes :**\n",
        "\n",
        "✓ dtypes is predefined attribute in Series class.\n",
        "\n",
        "✓ We can access dtypes attribute by using series object.\n",
        "\n",
        "✓ This attribute returns data type of series column."
      ],
      "metadata": {
        "id": "dJI3KUSR3Qef"
      }
    },
    {
      "cell_type": "code",
      "execution_count": 11,
      "metadata": {
        "id": "g_ZMFZbXzypr",
        "colab": {
          "base_uri": "https://localhost:8080/"
        },
        "outputId": "f4eae7fb-7c3b-4f74-8f55-6cea69150e97"
      },
      "outputs": [
        {
          "output_type": "stream",
          "name": "stdout",
          "text": [
            "int64\n"
          ]
        }
      ],
      "source": [
        "import pandas as pd\n",
        "data=pd.Series([1,2,3,4,5,6,7])\n",
        "print(data.dtypes)"
      ]
    },
    {
      "cell_type": "markdown",
      "source": [],
      "metadata": {
        "id": "ECZXYx_K3H-W"
      }
    },
    {
      "cell_type": "markdown",
      "source": [
        "2)**size :**\n",
        "\n",
        "✓ size is predefined attribute in Series class.\n",
        "\n",
        "✓ We can access size attribute by using series object.\n",
        "\n",
        "✓ This attribute returns number of values in series."
      ],
      "metadata": {
        "id": "YupPcISe3YF9"
      }
    },
    {
      "cell_type": "code",
      "source": [
        "import pandas as pd\n",
        "data=pd.Series([5,6,7,8,9])\n",
        "print(data.size)"
      ],
      "metadata": {
        "colab": {
          "base_uri": "https://localhost:8080/"
        },
        "id": "Ax-yvTsHwSjo",
        "outputId": "9bda49b2-72e5-4c31-c3fc-c746f019b5c3"
      },
      "execution_count": 10,
      "outputs": [
        {
          "output_type": "stream",
          "name": "stdout",
          "text": [
            "5\n"
          ]
        }
      ]
    },
    {
      "cell_type": "markdown",
      "source": [
        "3) **index :**\n",
        "\n",
        "✓ index is predefined attribute in Series class.\n",
        "\n",
        "✓ We can access index attribute by using series object.\n",
        "\n",
        "✓ This attribute returns the index range like, RangeIndex(start=0, stop=6,\n",
        "step=1)"
      ],
      "metadata": {
        "id": "qPpSRRtN3G07"
      }
    },
    {
      "cell_type": "code",
      "source": [
        "import pandas as pd\n",
        "data=pd.Series([10,20,30,40,50,60])\n",
        "print(data.index)"
      ],
      "metadata": {
        "colab": {
          "base_uri": "https://localhost:8080/"
        },
        "id": "rXk2SJgc1CTm",
        "outputId": "6d85b8d1-6f13-4deb-8cf8-6ceb204bc506"
      },
      "execution_count": 7,
      "outputs": [
        {
          "output_type": "stream",
          "name": "stdout",
          "text": [
            "RangeIndex(start=0, stop=6, step=1)\n"
          ]
        }
      ]
    },
    {
      "cell_type": "code",
      "source": [
        "import pandas as pd\n",
        "data=[10,20,30,40,50,60]\n",
        "i=[100,200,300,400,500,600]\n",
        "s=pd.Series(data,index=i)\n",
        "print(s.index)"
      ],
      "metadata": {
        "colab": {
          "base_uri": "https://localhost:8080/"
        },
        "id": "FFfrOY_93sop",
        "outputId": "400d752e-7f03-4e04-f64f-6c37933d58e6"
      },
      "execution_count": 14,
      "outputs": [
        {
          "output_type": "stream",
          "name": "stdout",
          "text": [
            "Index([100, 200, 300, 400, 500, 600], dtype='int64')\n"
          ]
        }
      ]
    },
    {
      "cell_type": "markdown",
      "source": [
        "4) **values :**\n",
        "\n",
        "✓ values is predefined attribute in Series class.\n",
        "\n",
        "✓ We can access values attribute by using series object.\n",
        "\n",
        "✓ This attribute returns the group of values as an array."
      ],
      "metadata": {
        "id": "ZPQAB7xN2qrx"
      }
    },
    {
      "cell_type": "code",
      "source": [
        "import pandas as pd\n",
        "data=pd.Series([100,200,300,400,500])\n",
        "print(data.values)"
      ],
      "metadata": {
        "colab": {
          "base_uri": "https://localhost:8080/"
        },
        "id": "RoohmldU1iYW",
        "outputId": "ffd780ad-1b11-41d2-c2df-6df645fea706"
      },
      "execution_count": 9,
      "outputs": [
        {
          "output_type": "stream",
          "name": "stdout",
          "text": [
            "[100 200 300 400 500]\n"
          ]
        }
      ]
    },
    {
      "cell_type": "code",
      "source": [],
      "metadata": {
        "id": "hG2FsUfq1u6b"
      },
      "execution_count": null,
      "outputs": []
    }
  ]
}